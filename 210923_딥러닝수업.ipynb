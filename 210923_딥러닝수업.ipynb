{
  "nbformat": 4,
  "nbformat_minor": 0,
  "metadata": {
    "colab": {
      "name": "210923 딥러닝수업.ipynb",
      "provenance": [],
      "collapsed_sections": [],
      "authorship_tag": "ABX9TyOoI1NWMeeFh2XPsjEkAgdz",
      "include_colab_link": true
    },
    "kernelspec": {
      "name": "python3",
      "display_name": "Python 3"
    },
    "language_info": {
      "name": "python"
    }
  },
  "cells": [
    {
      "cell_type": "markdown",
      "metadata": {
        "id": "view-in-github",
        "colab_type": "text"
      },
      "source": [
        "<a href=\"https://colab.research.google.com/github/twinkleSojeong/daitgirls_class/blob/main/210923_%EB%94%A5%EB%9F%AC%EB%8B%9D%EC%88%98%EC%97%85.ipynb\" target=\"_parent\"><img src=\"https://colab.research.google.com/assets/colab-badge.svg\" alt=\"Open In Colab\"/></a>"
      ]
    },
    {
      "cell_type": "markdown",
      "metadata": {
        "id": "W-02uMl7euyW"
      },
      "source": [
        "# 텐서플로 설치하기\n",
        "설치 및 임포트"
      ]
    },
    {
      "cell_type": "code",
      "metadata": {
        "id": "tOGKCVmOeaff"
      },
      "source": [
        "pip install tensorflow"
      ],
      "execution_count": null,
      "outputs": []
    },
    {
      "cell_type": "code",
      "metadata": {
        "id": "ttEwYpGseeMG"
      },
      "source": [
        "import tensorflow as tf"
      ],
      "execution_count": 3,
      "outputs": []
    },
    {
      "cell_type": "markdown",
      "metadata": {
        "id": "SOG-ynvPfK7D"
      },
      "source": [
        "# 감성분석\n",
        "문장의 감성(sentiment)을 예측: 감성은 긍정과 부정, 찬성과 반대, 좋다와 싫다 등\n",
        "\n",
        "기쁨, 슬픔, 분노 등은 정서(emotion)이라고 함\n",
        "\n",
        "Yelp데이터: 맛집리뷰데이터"
      ]
    },
    {
      "cell_type": "code",
      "metadata": {
        "colab": {
          "base_uri": "https://localhost:8080/",
          "height": 419
        },
        "id": "OsUIQ-QMemlk",
        "outputId": "2a2391fd-10ae-4522-c052-37a4d9f4ab08"
      },
      "source": [
        "import pandas as pd\n",
        "df = pd.read_excel('yelp.xlsx')\n",
        "df"
      ],
      "execution_count": 5,
      "outputs": [
        {
          "output_type": "execute_result",
          "data": {
            "text/html": [
              "<div>\n",
              "<style scoped>\n",
              "    .dataframe tbody tr th:only-of-type {\n",
              "        vertical-align: middle;\n",
              "    }\n",
              "\n",
              "    .dataframe tbody tr th {\n",
              "        vertical-align: top;\n",
              "    }\n",
              "\n",
              "    .dataframe thead th {\n",
              "        text-align: right;\n",
              "    }\n",
              "</style>\n",
              "<table border=\"1\" class=\"dataframe\">\n",
              "  <thead>\n",
              "    <tr style=\"text-align: right;\">\n",
              "      <th></th>\n",
              "      <th>review</th>\n",
              "      <th>sentiment</th>\n",
              "    </tr>\n",
              "  </thead>\n",
              "  <tbody>\n",
              "    <tr>\n",
              "      <th>0</th>\n",
              "      <td>Wow... Loved this place.</td>\n",
              "      <td>1</td>\n",
              "    </tr>\n",
              "    <tr>\n",
              "      <th>1</th>\n",
              "      <td>Crust is not good.</td>\n",
              "      <td>0</td>\n",
              "    </tr>\n",
              "    <tr>\n",
              "      <th>2</th>\n",
              "      <td>Not tasty and the texture was just nasty.</td>\n",
              "      <td>0</td>\n",
              "    </tr>\n",
              "    <tr>\n",
              "      <th>3</th>\n",
              "      <td>Stopped by during the late May bank holiday of...</td>\n",
              "      <td>1</td>\n",
              "    </tr>\n",
              "    <tr>\n",
              "      <th>4</th>\n",
              "      <td>The selection on the menu was great and so wer...</td>\n",
              "      <td>1</td>\n",
              "    </tr>\n",
              "    <tr>\n",
              "      <th>...</th>\n",
              "      <td>...</td>\n",
              "      <td>...</td>\n",
              "    </tr>\n",
              "    <tr>\n",
              "      <th>995</th>\n",
              "      <td>I think food should have flavor and texture an...</td>\n",
              "      <td>0</td>\n",
              "    </tr>\n",
              "    <tr>\n",
              "      <th>996</th>\n",
              "      <td>Appetite instantly gone.</td>\n",
              "      <td>0</td>\n",
              "    </tr>\n",
              "    <tr>\n",
              "      <th>997</th>\n",
              "      <td>Overall I was not impressed and would not go b...</td>\n",
              "      <td>0</td>\n",
              "    </tr>\n",
              "    <tr>\n",
              "      <th>998</th>\n",
              "      <td>The whole experience was underwhelming, and I ...</td>\n",
              "      <td>0</td>\n",
              "    </tr>\n",
              "    <tr>\n",
              "      <th>999</th>\n",
              "      <td>Then, as if I hadn't wasted enough of my life ...</td>\n",
              "      <td>0</td>\n",
              "    </tr>\n",
              "  </tbody>\n",
              "</table>\n",
              "<p>1000 rows × 2 columns</p>\n",
              "</div>"
            ],
            "text/plain": [
              "                                                review  sentiment\n",
              "0                             Wow... Loved this place.          1\n",
              "1                                   Crust is not good.          0\n",
              "2            Not tasty and the texture was just nasty.          0\n",
              "3    Stopped by during the late May bank holiday of...          1\n",
              "4    The selection on the menu was great and so wer...          1\n",
              "..                                                 ...        ...\n",
              "995  I think food should have flavor and texture an...          0\n",
              "996                           Appetite instantly gone.          0\n",
              "997  Overall I was not impressed and would not go b...          0\n",
              "998  The whole experience was underwhelming, and I ...          0\n",
              "999  Then, as if I hadn't wasted enough of my life ...          0\n",
              "\n",
              "[1000 rows x 2 columns]"
            ]
          },
          "metadata": {},
          "execution_count": 5
        }
      ]
    },
    {
      "cell_type": "code",
      "metadata": {
        "id": "3qoyltEtgj17"
      },
      "source": [
        "# 전처리: 문서 단어 행렬\n",
        "# 임포트\n",
        "from sklearn.feature_extraction.text import CountVectorizer\n",
        "\n",
        "# 빈도순으로 최대 1000개 단어를 사용하도록 설정, 영어 불용어는 제외\n",
        "# 전치사나 관사는 분석에서 제외해주기 위해서 작성\n",
        "cv = CountVectorizer(max_features=1000, stop_words='english')\n",
        "\n",
        "# 문서 단어 행렬로 변환\n",
        "dtm = cv.fit_transform(df.review)"
      ],
      "execution_count": 6,
      "outputs": []
    },
    {
      "cell_type": "code",
      "metadata": {
        "id": "XNcDLJvdiT_2",
        "colab": {
          "base_uri": "https://localhost:8080/",
          "height": 359
        },
        "outputId": "894b121a-8127-4f9a-e4ad-048ca391c506"
      },
      "source": [
        "# 지난시간내용\n",
        "word_count = pd.DataFrame({\n",
        "    'word': cv.get_feature_names(),\n",
        "    'count': dtm.sum(axis=0).flat\n",
        "})\n",
        "word_count.sort_values('count', ascending=False).head(10)"
      ],
      "execution_count": 7,
      "outputs": [
        {
          "output_type": "execute_result",
          "data": {
            "text/html": [
              "<div>\n",
              "<style scoped>\n",
              "    .dataframe tbody tr th:only-of-type {\n",
              "        vertical-align: middle;\n",
              "    }\n",
              "\n",
              "    .dataframe tbody tr th {\n",
              "        vertical-align: top;\n",
              "    }\n",
              "\n",
              "    .dataframe thead th {\n",
              "        text-align: right;\n",
              "    }\n",
              "</style>\n",
              "<table border=\"1\" class=\"dataframe\">\n",
              "  <thead>\n",
              "    <tr style=\"text-align: right;\">\n",
              "      <th></th>\n",
              "      <th>word</th>\n",
              "      <th>count</th>\n",
              "    </tr>\n",
              "  </thead>\n",
              "  <tbody>\n",
              "    <tr>\n",
              "      <th>246</th>\n",
              "      <td>food</td>\n",
              "      <td>126</td>\n",
              "    </tr>\n",
              "    <tr>\n",
              "      <th>498</th>\n",
              "      <td>place</td>\n",
              "      <td>106</td>\n",
              "    </tr>\n",
              "    <tr>\n",
              "      <th>265</th>\n",
              "      <td>good</td>\n",
              "      <td>95</td>\n",
              "    </tr>\n",
              "    <tr>\n",
              "      <th>668</th>\n",
              "      <td>service</td>\n",
              "      <td>85</td>\n",
              "    </tr>\n",
              "    <tr>\n",
              "      <th>268</th>\n",
              "      <td>great</td>\n",
              "      <td>70</td>\n",
              "    </tr>\n",
              "    <tr>\n",
              "      <th>347</th>\n",
              "      <td>like</td>\n",
              "      <td>46</td>\n",
              "    </tr>\n",
              "    <tr>\n",
              "      <th>834</th>\n",
              "      <td>time</td>\n",
              "      <td>42</td>\n",
              "    </tr>\n",
              "    <tr>\n",
              "      <th>583</th>\n",
              "      <td>really</td>\n",
              "      <td>36</td>\n",
              "    </tr>\n",
              "    <tr>\n",
              "      <th>328</th>\n",
              "      <td>just</td>\n",
              "      <td>35</td>\n",
              "    </tr>\n",
              "    <tr>\n",
              "      <th>56</th>\n",
              "      <td>best</td>\n",
              "      <td>30</td>\n",
              "    </tr>\n",
              "  </tbody>\n",
              "</table>\n",
              "</div>"
            ],
            "text/plain": [
              "        word  count\n",
              "246     food    126\n",
              "498    place    106\n",
              "265     good     95\n",
              "668  service     85\n",
              "268    great     70\n",
              "347     like     46\n",
              "834     time     42\n",
              "583   really     36\n",
              "328     just     35\n",
              "56      best     30"
            ]
          },
          "metadata": {},
          "execution_count": 7
        }
      ]
    },
    {
      "cell_type": "code",
      "metadata": {
        "id": "pHV22MHZg3m9"
      },
      "source": [
        "# 데이터 분할\n",
        "# x와 y를 지정\n",
        "x = dtm\n",
        "y = df.sentiment\n",
        "\n",
        "# 훈련용(80%)과 테스트용(20%)\n",
        "from sklearn.model_selection import train_test_split\n",
        "x_train, x_test, y_train, y_test = train_test_split(\n",
        "    x, y, test_size=0.2, random_state=42)"
      ],
      "execution_count": 8,
      "outputs": []
    },
    {
      "cell_type": "code",
      "metadata": {
        "id": "Tj06tLQmjGQQ"
      },
      "source": [
        "# Sequential: 순서대로 층을 쌓아서 모형을 만드는 함수\n",
        "# Dense: 선형모형과 동일하게 모든 입력에 가중치를 곱하여 더하는 층\n",
        "# 1: 출력의 개수, 글 하나에 긍/부정 하나를 예측하므로 출력의 개수는 1개\n",
        "# activation: 출력의 형태를 결정하는 활성화 함수\n",
        "# sigmoid: S자 형태의 활성화 함수로 로지스틱 함수와 동일\n",
        "\n",
        "model = tf.keras.Sequential([\n",
        "                             tf.keras.layers.Dense(1, activation='sigmoid')\n",
        "])"
      ],
      "execution_count": 9,
      "outputs": []
    },
    {
      "cell_type": "markdown",
      "metadata": {
        "id": "qRRXYLhZ-_Gs"
      },
      "source": [
        "# 경사하강법 gradient descent\n",
        "- 신경망의 파라미터를 추정하는 방법\n",
        "- 일부 데이터(배치)를 입력\n",
        "- 손실과 그 경사(기울기)를 계산\n",
        "- 손실이 감소하는 방향으로 파라미터 수정\n",
        "- 더 이상 손실이 줄어들지 않을때까지 반복"
      ]
    },
    {
      "cell_type": "code",
      "metadata": {
        "id": "Mz2qWqczAFCy"
      },
      "source": [
        "model.compile(\n",
        "    loss=tf.keras.losses.binary_crossentropy,\n",
        "    metrics=['accuracy']\n",
        ")"
      ],
      "execution_count": 17,
      "outputs": []
    },
    {
      "cell_type": "code",
      "metadata": {
        "id": "g-2HKtYM8Y3h"
      },
      "source": [
        "# 배치: 한 번에 모형의 파라미터 조정에 사용하는 데이터(기본 32개)\n",
        "# 에포크: 전체 데이터를 한 번 처음부터 끝까지 훑는 과정(800=32*25)\n",
        "# 에포크를 거듭할수록 손실은 감소, 정확도는 향상\n",
        "\n",
        "model.fit(x_train.A, y_train, epochs=10)"
      ],
      "execution_count": null,
      "outputs": []
    },
    {
      "cell_type": "code",
      "metadata": {
        "id": "hMlxOYATB083"
      },
      "source": [
        "model.evaluate(x_test.A, y_test)"
      ],
      "execution_count": null,
      "outputs": []
    },
    {
      "cell_type": "code",
      "metadata": {
        "id": "q64VpPZXB6Ge"
      },
      "source": [
        "# 모델 예측\n",
        "\n",
        "y_test\n",
        "model.predict(x_test.A)"
      ],
      "execution_count": null,
      "outputs": []
    },
    {
      "cell_type": "markdown",
      "metadata": {
        "id": "ZWpsAwioKhcX"
      },
      "source": [
        "Fashion MNIST"
      ]
    },
    {
      "cell_type": "code",
      "metadata": {
        "id": "UvrQCSsdD8Cz"
      },
      "source": [
        "(x_train, y_train), (x_test, y_test) = tf.keras.datasets.fashion_mnist.load_data()"
      ],
      "execution_count": 57,
      "outputs": []
    },
    {
      "cell_type": "code",
      "metadata": {
        "id": "lOjMsBsDKaYE"
      },
      "source": [
        "# 전처리: 나눠준 이유는 너무 커지면 결과가 잘 나오지 않기 때문\n",
        "\n",
        "x_train = x_train / 255.0\n",
        "x_test = x_test / 255.0"
      ],
      "execution_count": 58,
      "outputs": []
    },
    {
      "cell_type": "code",
      "metadata": {
        "colab": {
          "base_uri": "https://localhost:8080/"
        },
        "id": "KNTEbfShS8Pq",
        "outputId": "6ba64dcc-694f-4c2e-e47f-39c520d4995b"
      },
      "source": [
        "x_test.max()"
      ],
      "execution_count": 59,
      "outputs": [
        {
          "output_type": "execute_result",
          "data": {
            "text/plain": [
              "1.0"
            ]
          },
          "metadata": {},
          "execution_count": 59
        }
      ]
    },
    {
      "cell_type": "code",
      "metadata": {
        "colab": {
          "base_uri": "https://localhost:8080/",
          "height": 282
        },
        "id": "6AVt5OhBKo0P",
        "outputId": "8837a8ca-d638-481d-8d6d-3eaa259cf018"
      },
      "source": [
        "# 이미지 보기\n",
        "\n",
        "import matplotlib.pyplot as plt\n",
        "plt.imshow(x_train[7], cmap='gray')"
      ],
      "execution_count": 32,
      "outputs": [
        {
          "output_type": "execute_result",
          "data": {
            "text/plain": [
              "<matplotlib.image.AxesImage at 0x7f9c33c85550>"
            ]
          },
          "metadata": {},
          "execution_count": 32
        },
        {
          "output_type": "display_data",
          "data": {
            "image/png": "[encoded data removed]",
            "text/plain": [
              "<Figure size 432x288 with 1 Axes>"
            ]
          },
          "metadata": {
            "needs_background": "light"
          }
        }
      ]
    },
    {
      "cell_type": "code",
      "metadata": {
        "id": "1ITgHMCZK4aS"
      },
      "source": [
        "# 입력이 가로*세로 2차원 형태이므로 flatten 이용해 1차원 형태로 바꿔줌\n",
        "# 이미지 종류가 10개이므로 각 종류의 확률을 예측\n",
        "\n",
        "model = tf.keras.Sequential([\n",
        "                             tf.keras.layers.Flatten(),\n",
        "                             tf.keras.layers.Dense(10, activation='softmax')\n",
        "])"
      ],
      "execution_count": 33,
      "outputs": []
    },
    {
      "cell_type": "markdown",
      "metadata": {
        "id": "8j094bS1MHIC"
      },
      "source": [
        "# 소프트맥스 함수\n",
        "- 입력받은 모든 값을 각각 0~1 범위로 변환하여 출력, 출력값의 합=1\n",
        "- 둘 중에 하나로 예측할 때: sigmoid\n",
        "- 셋 이상 중에 하나로 예측할 때: softmax"
      ]
    },
    {
      "cell_type": "code",
      "metadata": {
        "id": "XdnLv9GZL5dl"
      },
      "source": [
        "# 훈련방법 설정\n",
        "# sparse_categorical_crossentropy: 교차 엔트로피(범주가 여러개)\n",
        "# adam: 경사하강법 알고리즘의 일종\n",
        "\n",
        "model.compile(\n",
        "    loss=tf.keras.losses.sparse_categorical_crossentropy,\n",
        "    optimizer=tf.keras.optimizers.Adam(),\n",
        "    metrics=['accuracy']\n",
        ")"
      ],
      "execution_count": 35,
      "outputs": []
    },
    {
      "cell_type": "code",
      "metadata": {
        "id": "VRAe85AKMuJ8"
      },
      "source": [
        "# validation_split=0.1: 10%의 데이터를 훈련에 사용하지 않고 남겨두었다가, 각 에포크의 끝에 성능테스트\n",
        "# EarlyStopping: 인공신경망의 학습에서 에포크 수를 결정하는 방법\n",
        "\n",
        "model.fit(x_train, y_train, epochs=100, validation_split=0.1, callbacks=[\n",
        "                                                                         tf.keras.callbacks.EarlyStopping()\n",
        "])"
      ],
      "execution_count": null,
      "outputs": []
    },
    {
      "cell_type": "code",
      "metadata": {
        "id": "xHbjFnRVNrXR"
      },
      "source": [
        "model = tf.keras.Sequential([\n",
        "    tf.keras.layers.Flatten(),\n",
        "    tf.keras.layers.Dense(32, activation='relu'),\n",
        "    tf.keras.layers.Dense(10, activation='softmax')\n",
        "])"
      ],
      "execution_count": 60,
      "outputs": []
    },
    {
      "cell_type": "code",
      "metadata": {
        "id": "QnqiIvlERGei"
      },
      "source": [
        "model.compile(\n",
        "    loss=tf.keras.losses.sparse_categorical_crossentropy,\n",
        "    optimizer=tf.keras.optimizers.Adam(),\n",
        "    metrics=['accuracy']\n",
        ")"
      ],
      "execution_count": 61,
      "outputs": []
    },
    {
      "cell_type": "code",
      "metadata": {
        "id": "vPfCIAm0R6VT"
      },
      "source": [
        "model.fit(x_train, y_train, epochs=100, validation_split=0.1, callbacks=[\n",
        "                                                                         tf.keras.callbacks.EarlyStopping()\n",
        "])"
      ],
      "execution_count": null,
      "outputs": []
    },
    {
      "cell_type": "code",
      "metadata": {
        "id": "Nn4brUGFSTTN"
      },
      "source": [
        "model.evaluate(x_test, y_test)"
      ],
      "execution_count": null,
      "outputs": []
    },
    {
      "cell_type": "code",
      "metadata": {
        "colab": {
          "base_uri": "https://localhost:8080/"
        },
        "id": "nQpDM7eaScPd",
        "outputId": "47656b6b-eda7-48f3-be18-41cd62a4e9fe"
      },
      "source": [
        "x_train.max()"
      ],
      "execution_count": 64,
      "outputs": [
        {
          "output_type": "execute_result",
          "data": {
            "text/plain": [
              "1.0"
            ]
          },
          "metadata": {},
          "execution_count": 64
        }
      ]
    },
    {
      "cell_type": "markdown",
      "metadata": {
        "id": "cXBYDrhWTwEQ"
      },
      "source": [
        "# 앞먹임\n",
        "- CNN: 이미지\n",
        "- RNN: 텍스트 문맥을 살펴볼 때\n",
        "- transformer: 문맥을 포함해서 처리하는 것"
      ]
    },
    {
      "cell_type": "code",
      "metadata": {
        "id": "hc1Al240TU6D"
      },
      "source": [
        "model = tf.keras.Sequential([\n",
        "                             tf.keras.layers.Conv2D(32,3),\n",
        "                             tf.keras.layers.MaxPool2D(),\n",
        "                             tf.keras.layers.Conv2D(32,3),\n",
        "                             tf.keras.layers.MaxPool2D(),\n",
        "                             tf.keras.layers.Flatten(),\n",
        "                             tf.keras.layers.Dense(32, activation='relu'),\n",
        "                             tf.keras.layers.Dense(32, activation='softmax')\n",
        "])"
      ],
      "execution_count": 66,
      "outputs": []
    },
    {
      "cell_type": "code",
      "metadata": {
        "id": "QDIeYNlsaoh3"
      },
      "source": [
        "model.compile(\n",
        "    loss=tf.keras.losses.sparse_categorical_crossentropy,\n",
        "    optimizer=tf.keras.optimizers.Adam(),\n",
        "    metrics=['accuracy']\n",
        ")"
      ],
      "execution_count": 67,
      "outputs": []
    },
    {
      "cell_type": "code",
      "metadata": {
        "id": "mhi4wPGabB5B"
      },
      "source": [
        "import numpy as np\n",
        "x_train2 = np.expand_dims(x_train, -1)"
      ],
      "execution_count": 68,
      "outputs": []
    },
    {
      "cell_type": "code",
      "metadata": {
        "id": "XU21XCS8bHgP"
      },
      "source": [
        "model.fit(x_train2, y_train, epochs=100, validation_split=0.1, callbacks=[\n",
        "                                                                          tf.keras.callbacks.EarlyStopping(patience=3)\n",
        "])"
      ],
      "execution_count": null,
      "outputs": []
    },
    {
      "cell_type": "code",
      "metadata": {
        "id": "wIv2g7rpbfn_"
      },
      "source": [
        "!wget https://storage.googleapis.com/mledu-datasets/cats_and_dogs_filtered.zip"
      ],
      "execution_count": null,
      "outputs": []
    },
    {
      "cell_type": "code",
      "metadata": {
        "id": "sLUTnycJc9M1"
      },
      "source": [
        "!unzip cats_and_dogs_filtered.zip"
      ],
      "execution_count": null,
      "outputs": []
    },
    {
      "cell_type": "code",
      "metadata": {
        "id": "kYTH8-SZdpDY"
      },
      "source": [
        "import os.path\n",
        "data_dir = 'cats_and_dogs_filtered'\n",
        "BATCH_SIZE = 32 #사진을 32장만 가지고 와라(마음대로 설정해도 가능)\n",
        "IMG_SIZE = (224,224) # 홈페이지에 있는 크기에 맞춰줌"
      ],
      "execution_count": 76,
      "outputs": []
    },
    {
      "cell_type": "code",
      "metadata": {
        "colab": {
          "base_uri": "https://localhost:8080/"
        },
        "id": "FTRg5HqjeDIJ",
        "outputId": "a042e6d3-4fdf-4dbd-f939-a56f26331290"
      },
      "source": [
        "train_dataset = tf.keras.preprocessing.image_dataset_from_directory(\n",
        "    os.path.join(data_dir, 'train'),\n",
        "    shuffle=True,\n",
        "    batch_size=BATCH_SIZE,\n",
        "    image_size=IMG_SIZE,\n",
        ")"
      ],
      "execution_count": 78,
      "outputs": [
        {
          "output_type": "stream",
          "name": "stdout",
          "text": [
            "Found 2000 files belonging to 2 classes.\n"
          ]
        }
      ]
    },
    {
      "cell_type": "code",
      "metadata": {
        "colab": {
          "base_uri": "https://localhost:8080/"
        },
        "id": "UgTri1yBebuq",
        "outputId": "dc73f281-41f9-4a7e-8e2f-0490d65078b6"
      },
      "source": [
        "validation_dataset = tf.keras.preprocessing.image_dataset_from_directory(\n",
        "    os.path.join(data_dir, 'validation'),\n",
        "    shuffle=True,\n",
        "    batch_size=BATCH_SIZE,\n",
        "    image_size=IMG_SIZE,\n",
        ")"
      ],
      "execution_count": 102,
      "outputs": [
        {
          "output_type": "stream",
          "name": "stdout",
          "text": [
            "Found 1000 files belonging to 2 classes.\n"
          ]
        }
      ]
    },
    {
      "cell_type": "code",
      "metadata": {
        "id": "JzoE2pJPfmqX"
      },
      "source": [
        "images, labels = next(iter(train_dataset))"
      ],
      "execution_count": 80,
      "outputs": []
    },
    {
      "cell_type": "code",
      "metadata": {
        "colab": {
          "base_uri": "https://localhost:8080/",
          "height": 286
        },
        "id": "eAZZCZWffrCr",
        "outputId": "8b317cd0-00c3-46a4-ea38-80b775e8464e"
      },
      "source": [
        "# unit8: unsigned integer 8bit(부호가 없는 8비트 정수)\n",
        "plt.imshow(images[0].numpy().astype('uint8'))"
      ],
      "execution_count": 86,
      "outputs": [
        {
          "output_type": "execute_result",
          "data": {
            "text/plain": [
              "<matplotlib.image.AxesImage at 0x7f9c34837f90>"
            ]
          },
          "metadata": {},
          "execution_count": 86
        },
        {
          "output_type": "display_data",
          "data": {
            "image/png": "[encoded data removed]",
            "text/plain": [
              "<Figure size 432x288 with 1 Axes>"
            ]
          },
          "metadata": {
            "needs_background": "light"
          }
        }
      ]
    },
    {
      "cell_type": "code",
      "metadata": {
        "id": "6LBKETGIfxi9"
      },
      "source": [
        "images[0].shape"
      ],
      "execution_count": null,
      "outputs": []
    },
    {
      "cell_type": "code",
      "metadata": {
        "id": "kxYHM6uIgU1J"
      },
      "source": [
        "images.shape"
      ],
      "execution_count": null,
      "outputs": []
    },
    {
      "cell_type": "markdown",
      "metadata": {
        "id": "TW_2K03IiB8O"
      },
      "source": [
        "# 텐서플로우 허브 이용해보기"
      ]
    },
    {
      "cell_type": "code",
      "metadata": {
        "id": "ycc8l_PDgi-d"
      },
      "source": [
        "pip install tensorflow_hub"
      ],
      "execution_count": null,
      "outputs": []
    },
    {
      "cell_type": "code",
      "metadata": {
        "id": "_Wpmtq6Ih6XU"
      },
      "source": [
        "import tensorflow_hub as hub"
      ],
      "execution_count": 88,
      "outputs": []
    },
    {
      "cell_type": "code",
      "metadata": {
        "id": "M363jJ3ViAP9"
      },
      "source": [
        "# 모델제작(MobileNetV2 모델)\n",
        "# 1001 종류의 사물을 구별하도록 학습된 모델\n",
        "\n",
        "model_url = \"https://tfhub.dev/google/tf2-preview/mobilenet_v2/classification/4\"\n",
        "model = tf.keras.Sequential([\n",
        "\ttf.keras.layers.experimental.preprocessing.Rescaling(1./255),\n",
        "\thub.KerasLayer(model_url)\n",
        "])"
      ],
      "execution_count": 89,
      "outputs": []
    },
    {
      "cell_type": "markdown",
      "metadata": {
        "id": "gTpxb4rxpQeN"
      },
      "source": [
        "레이블 설정하고 예측하기"
      ]
    },
    {
      "cell_type": "code",
      "metadata": {
        "id": "ORax49tkokm3"
      },
      "source": [
        "label_file = tf.keras.utils.get_file(origin=\n",
        "                                     'https://storage.googleapis.com/download.tensorflow.org/data/' + 'ImageNetLabels.txt')\n",
        "\n",
        "labels = open(label_file).read().splitlines()"
      ],
      "execution_count": null,
      "outputs": []
    },
    {
      "cell_type": "code",
      "metadata": {
        "id": "PmkCMVTHjHFV"
      },
      "source": [
        "predicted = model.predict(images)"
      ],
      "execution_count": 96,
      "outputs": []
    },
    {
      "cell_type": "code",
      "metadata": {
        "id": "nlfF541xnBpB"
      },
      "source": [
        "predicted.argmax(axis=1)"
      ],
      "execution_count": null,
      "outputs": []
    },
    {
      "cell_type": "code",
      "metadata": {
        "id": "zbyXyRddnJgM"
      },
      "source": [
        "for i in predicted.argmax(axis=1):\n",
        "  print(labels[i])"
      ],
      "execution_count": null,
      "outputs": []
    },
    {
      "cell_type": "markdown",
      "metadata": {
        "id": "1_NuBjyypT3X"
      },
      "source": [
        "출력층 덧붙이고 미세조정하기"
      ]
    },
    {
      "cell_type": "code",
      "metadata": {
        "id": "gtFVT-C0ohoJ"
      },
      "source": [
        "model_url = ('https://tfhub.dev/google/imagenet/'\n",
        "             'mobilenet_v2_100_224/feature_vector/5')\n",
        "\n",
        "model = tf.keras.Sequential([\n",
        "    tf.keras.layers.experimental.preprocessing.Rescaling(1./255),\n",
        "    hub.KerasLayer(model_url, trainable=False),\n",
        "    tf.keras.layers.Dense(1, activation='sigmoid')\n",
        "])"
      ],
      "execution_count": 98,
      "outputs": []
    },
    {
      "cell_type": "code",
      "metadata": {
        "colab": {
          "base_uri": "https://localhost:8080/"
        },
        "id": "fEsaGeRBqYtm",
        "outputId": "ac425150-9d6a-4497-9710-8e4d55f6d7b1"
      },
      "source": [
        "model.compile(\n",
        "    optimizer=tf.keras.optimizers.Adam(),\n",
        "    loss=tf.keras.losses.binary_crossentropy,\n",
        "    metrics=['accuracy'])\n",
        "\n",
        "model.fit(\n",
        "    train_dataset,\n",
        "    validation_data=validation_dataset,\n",
        "    epochs=100,\n",
        "    callbacks=[tf.keras.callbacks.EarlyStopping()]\n",
        ")"
      ],
      "execution_count": 103,
      "outputs": [
        {
          "output_type": "stream",
          "name": "stdout",
          "text": [
            "Epoch 1/100\n",
            "32/32 [==============================] - 54s 2s/step - loss: 0.3493 - accuracy: 0.8770 - val_loss: 0.1296 - val_accuracy: 0.9790\n"
          ]
        },
        {
          "output_type": "execute_result",
          "data": {
            "text/plain": [
              "<keras.callbacks.History at 0x7f9c32b9dc90>"
            ]
          },
          "metadata": {},
          "execution_count": 103
        }
      ]
    },
    {
      "cell_type": "code",
      "metadata": {
        "id": "xtcwiFyhq2NC"
      },
      "source": [
        ""
      ],
      "execution_count": null,
      "outputs": []
    }
  ]
}
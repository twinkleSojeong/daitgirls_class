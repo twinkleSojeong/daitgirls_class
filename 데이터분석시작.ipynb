{
  "nbformat": 4,
  "nbformat_minor": 0,
  "metadata": {
    "colab": {
      "name": "데이터분석시작.ipynb",
      "provenance": [],
      "collapsed_sections": [],
      "include_colab_link": true
    },
    "kernelspec": {
      "display_name": "Python 3",
      "name": "python3"
    },
    "language_info": {
      "name": "python"
    }
  },
  "cells": [
    {
      "cell_type": "markdown",
      "metadata": {
        "id": "view-in-github",
        "colab_type": "text"
      },
      "source": [
        "<a href=\"https://colab.research.google.com/github/twinkleSojeong/daitgirls_class/blob/main/%EB%8D%B0%EC%9D%B4%ED%84%B0%EB%B6%84%EC%84%9D%EC%8B%9C%EC%9E%91.ipynb\" target=\"_parent\"><img src=\"https://colab.research.google.com/assets/colab-badge.svg\" alt=\"Open In Colab\"/></a>"
      ]
    },
    {
      "cell_type": "code",
      "metadata": {
        "id": "0LfU5jS6KB95"
      },
      "source": [
        "import numpy as np \n",
        "import pandas as pd \n",
        "import matplotlib.pyplot as plt\n",
        "import seaborn as sns\n",
        "import warnings\n",
        "warnings.filterwarnings('ignore')"
      ],
      "execution_count": null,
      "outputs": []
    },
    {
      "cell_type": "code",
      "metadata": {
        "id": "-QuunkD4KrdO"
      },
      "source": [
        "#데이터 불러오기\n",
        "data = pd.read_excel('data.xlsx')"
      ],
      "execution_count": null,
      "outputs": []
    },
    {
      "cell_type": "code",
      "metadata": {
        "id": "qgsjqc-qK4VT",
        "colab": {
          "base_uri": "https://localhost:8080/",
          "height": 286
        },
        "outputId": "8cedfaec-ef54-498d-85bc-117b3186b2d7"
      },
      "source": [
        "data.head()"
      ],
      "execution_count": null,
      "outputs": [
        {
          "output_type": "execute_result",
          "data": {
            "text/html": [
              "<div>\n",
              "<style scoped>\n",
              "    .dataframe tbody tr th:only-of-type {\n",
              "        vertical-align: middle;\n",
              "    }\n",
              "\n",
              "    .dataframe tbody tr th {\n",
              "        vertical-align: top;\n",
              "    }\n",
              "\n",
              "    .dataframe thead th {\n",
              "        text-align: right;\n",
              "    }\n",
              "</style>\n",
              "<table border=\"1\" class=\"dataframe\">\n",
              "  <thead>\n",
              "    <tr style=\"text-align: right;\">\n",
              "      <th></th>\n",
              "      <th>0</th>\n",
              "      <th>title</th>\n",
              "      <th>name</th>\n",
              "      <th>group</th>\n",
              "      <th>class</th>\n",
              "      <th>donation</th>\n",
              "      <th>place</th>\n",
              "      <th>participation</th>\n",
              "      <th>processing</th>\n",
              "      <th>rate</th>\n",
              "      <th>rate_sp</th>\n",
              "    </tr>\n",
              "  </thead>\n",
              "  <tbody>\n",
              "    <tr>\n",
              "      <th>0</th>\n",
              "      <td>1</td>\n",
              "      <td>우리가 몰랐던 일본의 양심, 다카자네 야스노리 유고집 발간</td>\n",
              "      <td>삶창</td>\n",
              "      <td>0</td>\n",
              "      <td>기업</td>\n",
              "      <td>0</td>\n",
              "      <td>NaN</td>\n",
              "      <td>1</td>\n",
              "      <td>0</td>\n",
              "      <td>0.10</td>\n",
              "      <td>10</td>\n",
              "    </tr>\n",
              "    <tr>\n",
              "      <th>1</th>\n",
              "      <td>2</td>\n",
              "      <td>다큐멘터리 사진으로 보는 한일현대사 쟁점 다섯 가지</td>\n",
              "      <td>신동필</td>\n",
              "      <td>1</td>\n",
              "      <td>예술인</td>\n",
              "      <td>0</td>\n",
              "      <td>NaN</td>\n",
              "      <td>1</td>\n",
              "      <td>0</td>\n",
              "      <td>0.91</td>\n",
              "      <td>91</td>\n",
              "    </tr>\n",
              "    <tr>\n",
              "      <th>2</th>\n",
              "      <td>3</td>\n",
              "      <td>잊혀지지 않을 기억, 뮤지컬 단편영화 &lt;언니를 기억해&gt;</td>\n",
              "      <td>언니팀</td>\n",
              "      <td>0</td>\n",
              "      <td>대학생</td>\n",
              "      <td>0</td>\n",
              "      <td>NaN</td>\n",
              "      <td>1</td>\n",
              "      <td>0</td>\n",
              "      <td>0.25</td>\n",
              "      <td>25</td>\n",
              "    </tr>\n",
              "    <tr>\n",
              "      <th>3</th>\n",
              "      <td>4</td>\n",
              "      <td>위안부 기억나비 카드지갑/팔찌</td>\n",
              "      <td>위대한 유산</td>\n",
              "      <td>0</td>\n",
              "      <td>사회단체</td>\n",
              "      <td>1</td>\n",
              "      <td>나눔의집</td>\n",
              "      <td>3</td>\n",
              "      <td>1</td>\n",
              "      <td>24.99</td>\n",
              "      <td>2499</td>\n",
              "    </tr>\n",
              "    <tr>\n",
              "      <th>4</th>\n",
              "      <td>5</td>\n",
              "      <td>[ 나리 : 진실 ] - '위안부' 기억 뱃지</td>\n",
              "      <td>지지 공방/나눔 그리미</td>\n",
              "      <td>0</td>\n",
              "      <td>고등학생</td>\n",
              "      <td>1</td>\n",
              "      <td>나눔의집</td>\n",
              "      <td>1</td>\n",
              "      <td>1</td>\n",
              "      <td>20.43</td>\n",
              "      <td>2043</td>\n",
              "    </tr>\n",
              "  </tbody>\n",
              "</table>\n",
              "</div>"
            ],
            "text/plain": [
              "   0                             title  ...   rate  rate_sp\n",
              "0  1  우리가 몰랐던 일본의 양심, 다카자네 야스노리 유고집 발간  ...   0.10       10\n",
              "1  2      다큐멘터리 사진으로 보는 한일현대사 쟁점 다섯 가지  ...   0.91       91\n",
              "2  3    잊혀지지 않을 기억, 뮤지컬 단편영화 <언니를 기억해>  ...   0.25       25\n",
              "3  4                  위안부 기억나비 카드지갑/팔찌  ...  24.99     2499\n",
              "4  5         [ 나리 : 진실 ] - '위안부' 기억 뱃지  ...  20.43     2043\n",
              "\n",
              "[5 rows x 11 columns]"
            ]
          },
          "metadata": {},
          "execution_count": 3
        }
      ]
    },
    {
      "cell_type": "code",
      "metadata": {
        "colab": {
          "base_uri": "https://localhost:8080/"
        },
        "id": "NuGA9uC4K-61",
        "outputId": "659eede5-b27e-433d-d394-2cb936062531"
      },
      "source": [
        "data.info()"
      ],
      "execution_count": null,
      "outputs": [
        {
          "output_type": "stream",
          "name": "stdout",
          "text": [
            "<class 'pandas.core.frame.DataFrame'>\n",
            "RangeIndex: 137 entries, 0 to 136\n",
            "Data columns (total 11 columns):\n",
            " #   Column         Non-Null Count  Dtype  \n",
            "---  ------         --------------  -----  \n",
            " 0   0              137 non-null    int64  \n",
            " 1   title          137 non-null    object \n",
            " 2   name           137 non-null    object \n",
            " 3   group          137 non-null    int64  \n",
            " 4   class          137 non-null    object \n",
            " 5   donation       137 non-null    int64  \n",
            " 6   place          80 non-null     object \n",
            " 7   participation  137 non-null    int64  \n",
            " 8   processing     137 non-null    int64  \n",
            " 9   rate           137 non-null    float64\n",
            " 10  rate_sp        137 non-null    int64  \n",
            "dtypes: float64(1), int64(6), object(4)\n",
            "memory usage: 11.9+ KB\n"
          ]
        }
      ]
    },
    {
      "cell_type": "code",
      "metadata": {
        "colab": {
          "base_uri": "https://localhost:8080/"
        },
        "id": "SGmyHE3NYRqb",
        "outputId": "226d71a2-38e5-4b13-b579-a643ed16caa6"
      },
      "source": [
        "data.shape"
      ],
      "execution_count": null,
      "outputs": [
        {
          "output_type": "execute_result",
          "data": {
            "text/plain": [
              "(137, 11)"
            ]
          },
          "metadata": {},
          "execution_count": 9
        }
      ]
    },
    {
      "cell_type": "code",
      "metadata": {
        "colab": {
          "base_uri": "https://localhost:8080/",
          "height": 314
        },
        "id": "mW09YTGeLCVD",
        "outputId": "488f2093-b967-4df5-b47b-86fc7211b7fb"
      },
      "source": [
        "data.describe()"
      ],
      "execution_count": null,
      "outputs": [
        {
          "output_type": "execute_result",
          "data": {
            "text/html": [
              "<div>\n",
              "<style scoped>\n",
              "    .dataframe tbody tr th:only-of-type {\n",
              "        vertical-align: middle;\n",
              "    }\n",
              "\n",
              "    .dataframe tbody tr th {\n",
              "        vertical-align: top;\n",
              "    }\n",
              "\n",
              "    .dataframe thead th {\n",
              "        text-align: right;\n",
              "    }\n",
              "</style>\n",
              "<table border=\"1\" class=\"dataframe\">\n",
              "  <thead>\n",
              "    <tr style=\"text-align: right;\">\n",
              "      <th></th>\n",
              "      <th>0</th>\n",
              "      <th>group</th>\n",
              "      <th>donation</th>\n",
              "      <th>participation</th>\n",
              "      <th>processing</th>\n",
              "      <th>rate</th>\n",
              "      <th>rate_sp</th>\n",
              "    </tr>\n",
              "  </thead>\n",
              "  <tbody>\n",
              "    <tr>\n",
              "      <th>count</th>\n",
              "      <td>137.000000</td>\n",
              "      <td>137.000000</td>\n",
              "      <td>137.000000</td>\n",
              "      <td>137.000000</td>\n",
              "      <td>137.000000</td>\n",
              "      <td>137.000000</td>\n",
              "      <td>137.000000</td>\n",
              "    </tr>\n",
              "    <tr>\n",
              "      <th>mean</th>\n",
              "      <td>69.029197</td>\n",
              "      <td>0.197080</td>\n",
              "      <td>0.576642</td>\n",
              "      <td>1.416058</td>\n",
              "      <td>0.978102</td>\n",
              "      <td>2.483212</td>\n",
              "      <td>248.321168</td>\n",
              "    </tr>\n",
              "    <tr>\n",
              "      <th>std</th>\n",
              "      <td>39.742913</td>\n",
              "      <td>0.399253</td>\n",
              "      <td>0.495904</td>\n",
              "      <td>0.703378</td>\n",
              "      <td>0.146887</td>\n",
              "      <td>3.683363</td>\n",
              "      <td>368.336322</td>\n",
              "    </tr>\n",
              "    <tr>\n",
              "      <th>min</th>\n",
              "      <td>1.000000</td>\n",
              "      <td>0.000000</td>\n",
              "      <td>0.000000</td>\n",
              "      <td>1.000000</td>\n",
              "      <td>0.000000</td>\n",
              "      <td>0.000000</td>\n",
              "      <td>0.000000</td>\n",
              "    </tr>\n",
              "    <tr>\n",
              "      <th>25%</th>\n",
              "      <td>35.000000</td>\n",
              "      <td>0.000000</td>\n",
              "      <td>0.000000</td>\n",
              "      <td>1.000000</td>\n",
              "      <td>1.000000</td>\n",
              "      <td>0.580000</td>\n",
              "      <td>58.000000</td>\n",
              "    </tr>\n",
              "    <tr>\n",
              "      <th>50%</th>\n",
              "      <td>69.000000</td>\n",
              "      <td>0.000000</td>\n",
              "      <td>1.000000</td>\n",
              "      <td>1.000000</td>\n",
              "      <td>1.000000</td>\n",
              "      <td>1.380000</td>\n",
              "      <td>138.000000</td>\n",
              "    </tr>\n",
              "    <tr>\n",
              "      <th>75%</th>\n",
              "      <td>103.000000</td>\n",
              "      <td>0.000000</td>\n",
              "      <td>1.000000</td>\n",
              "      <td>2.000000</td>\n",
              "      <td>1.000000</td>\n",
              "      <td>2.370000</td>\n",
              "      <td>237.000000</td>\n",
              "    </tr>\n",
              "    <tr>\n",
              "      <th>max</th>\n",
              "      <td>139.000000</td>\n",
              "      <td>1.000000</td>\n",
              "      <td>1.000000</td>\n",
              "      <td>3.000000</td>\n",
              "      <td>1.000000</td>\n",
              "      <td>24.990000</td>\n",
              "      <td>2499.000000</td>\n",
              "    </tr>\n",
              "  </tbody>\n",
              "</table>\n",
              "</div>"
            ],
            "text/plain": [
              "                0       group    donation  ...  processing        rate      rate_sp\n",
              "count  137.000000  137.000000  137.000000  ...  137.000000  137.000000   137.000000\n",
              "mean    69.029197    0.197080    0.576642  ...    0.978102    2.483212   248.321168\n",
              "std     39.742913    0.399253    0.495904  ...    0.146887    3.683363   368.336322\n",
              "min      1.000000    0.000000    0.000000  ...    0.000000    0.000000     0.000000\n",
              "25%     35.000000    0.000000    0.000000  ...    1.000000    0.580000    58.000000\n",
              "50%     69.000000    0.000000    1.000000  ...    1.000000    1.380000   138.000000\n",
              "75%    103.000000    0.000000    1.000000  ...    1.000000    2.370000   237.000000\n",
              "max    139.000000    1.000000    1.000000  ...    1.000000   24.990000  2499.000000\n",
              "\n",
              "[8 rows x 7 columns]"
            ]
          },
          "metadata": {},
          "execution_count": 10
        }
      ]
    },
    {
      "cell_type": "code",
      "metadata": {
        "id": "YpljiIz3vZQy"
      },
      "source": [
        "data = data.drop(0,axis=1)\n",
        "data = data.drop('rate',axis=1)"
      ],
      "execution_count": null,
      "outputs": []
    },
    {
      "cell_type": "code",
      "metadata": {
        "colab": {
          "base_uri": "https://localhost:8080/",
          "height": 1000
        },
        "id": "dxTXNmdywsgR",
        "outputId": "f172036e-d928-4d38-fa24-7744a4ad4ad6"
      },
      "source": [
        "data"
      ],
      "execution_count": null,
      "outputs": [
        {
          "output_type": "execute_result",
          "data": {
            "text/html": [
              "<div>\n",
              "<style scoped>\n",
              "    .dataframe tbody tr th:only-of-type {\n",
              "        vertical-align: middle;\n",
              "    }\n",
              "\n",
              "    .dataframe tbody tr th {\n",
              "        vertical-align: top;\n",
              "    }\n",
              "\n",
              "    .dataframe thead th {\n",
              "        text-align: right;\n",
              "    }\n",
              "</style>\n",
              "<table border=\"1\" class=\"dataframe\">\n",
              "  <thead>\n",
              "    <tr style=\"text-align: right;\">\n",
              "      <th></th>\n",
              "      <th>title</th>\n",
              "      <th>name</th>\n",
              "      <th>group</th>\n",
              "      <th>class</th>\n",
              "      <th>donation</th>\n",
              "      <th>place</th>\n",
              "      <th>participation</th>\n",
              "      <th>processing</th>\n",
              "      <th>rate_sp</th>\n",
              "    </tr>\n",
              "  </thead>\n",
              "  <tbody>\n",
              "    <tr>\n",
              "      <th>0</th>\n",
              "      <td>우리가 몰랐던 일본의 양심, 다카자네 야스노리 유고집 발간</td>\n",
              "      <td>삶창</td>\n",
              "      <td>0</td>\n",
              "      <td>기업</td>\n",
              "      <td>0</td>\n",
              "      <td>NaN</td>\n",
              "      <td>1</td>\n",
              "      <td>0</td>\n",
              "      <td>10</td>\n",
              "    </tr>\n",
              "    <tr>\n",
              "      <th>1</th>\n",
              "      <td>다큐멘터리 사진으로 보는 한일현대사 쟁점 다섯 가지</td>\n",
              "      <td>신동필</td>\n",
              "      <td>1</td>\n",
              "      <td>예술인</td>\n",
              "      <td>0</td>\n",
              "      <td>NaN</td>\n",
              "      <td>1</td>\n",
              "      <td>0</td>\n",
              "      <td>91</td>\n",
              "    </tr>\n",
              "    <tr>\n",
              "      <th>2</th>\n",
              "      <td>잊혀지지 않을 기억, 뮤지컬 단편영화 &lt;언니를 기억해&gt;</td>\n",
              "      <td>언니팀</td>\n",
              "      <td>0</td>\n",
              "      <td>대학생</td>\n",
              "      <td>0</td>\n",
              "      <td>NaN</td>\n",
              "      <td>1</td>\n",
              "      <td>0</td>\n",
              "      <td>25</td>\n",
              "    </tr>\n",
              "    <tr>\n",
              "      <th>3</th>\n",
              "      <td>위안부 기억나비 카드지갑/팔찌</td>\n",
              "      <td>위대한 유산</td>\n",
              "      <td>0</td>\n",
              "      <td>사회단체</td>\n",
              "      <td>1</td>\n",
              "      <td>나눔의집</td>\n",
              "      <td>3</td>\n",
              "      <td>1</td>\n",
              "      <td>2499</td>\n",
              "    </tr>\n",
              "    <tr>\n",
              "      <th>4</th>\n",
              "      <td>[ 나리 : 진실 ] - '위안부' 기억 뱃지</td>\n",
              "      <td>지지 공방/나눔 그리미</td>\n",
              "      <td>0</td>\n",
              "      <td>고등학생</td>\n",
              "      <td>1</td>\n",
              "      <td>나눔의집</td>\n",
              "      <td>1</td>\n",
              "      <td>1</td>\n",
              "      <td>2043</td>\n",
              "    </tr>\n",
              "    <tr>\n",
              "      <th>...</th>\n",
              "      <td>...</td>\n",
              "      <td>...</td>\n",
              "      <td>...</td>\n",
              "      <td>...</td>\n",
              "      <td>...</td>\n",
              "      <td>...</td>\n",
              "      <td>...</td>\n",
              "      <td>...</td>\n",
              "      <td>...</td>\n",
              "    </tr>\n",
              "    <tr>\n",
              "      <th>132</th>\n",
              "      <td>위안부' 기억하기 프로젝트 [소녀의 우산/거울/수건]</td>\n",
              "      <td>희움</td>\n",
              "      <td>0</td>\n",
              "      <td>기업</td>\n",
              "      <td>1</td>\n",
              "      <td>희움씨앗기금</td>\n",
              "      <td>2</td>\n",
              "      <td>1</td>\n",
              "      <td>821</td>\n",
              "    </tr>\n",
              "    <tr>\n",
              "      <th>133</th>\n",
              "      <td>함께 기억해주세요, 일본군'위안부'피해자 '기억'다이어리</td>\n",
              "      <td>모꼬지</td>\n",
              "      <td>0</td>\n",
              "      <td>중학생</td>\n",
              "      <td>1</td>\n",
              "      <td>나눔의집</td>\n",
              "      <td>1</td>\n",
              "      <td>1</td>\n",
              "      <td>461</td>\n",
              "    </tr>\n",
              "    <tr>\n",
              "      <th>134</th>\n",
              "      <td>2019 굿데이 프로젝트 첫번째 발자국, 한아름 키링</td>\n",
              "      <td>김영우</td>\n",
              "      <td>1</td>\n",
              "      <td>기타</td>\n",
              "      <td>1</td>\n",
              "      <td>정의기억연대</td>\n",
              "      <td>3</td>\n",
              "      <td>1</td>\n",
              "      <td>279</td>\n",
              "    </tr>\n",
              "    <tr>\n",
              "      <th>135</th>\n",
              "      <td>엄마, 미안해요</td>\n",
              "      <td>이야기해주세요</td>\n",
              "      <td>0</td>\n",
              "      <td>예술인</td>\n",
              "      <td>0</td>\n",
              "      <td>NaN</td>\n",
              "      <td>1</td>\n",
              "      <td>1</td>\n",
              "      <td>256</td>\n",
              "    </tr>\n",
              "    <tr>\n",
              "      <th>136</th>\n",
              "      <td>&lt;더라스트걸&gt; 나는 사람이 아니었다. IS 성 노예였다.</td>\n",
              "      <td>비위드</td>\n",
              "      <td>0</td>\n",
              "      <td>사회단체</td>\n",
              "      <td>1</td>\n",
              "      <td>전쟁과여성인권박물관</td>\n",
              "      <td>2</td>\n",
              "      <td>1</td>\n",
              "      <td>232</td>\n",
              "    </tr>\n",
              "  </tbody>\n",
              "</table>\n",
              "<p>137 rows × 9 columns</p>\n",
              "</div>"
            ],
            "text/plain": [
              "                                title          name  ...  processing rate_sp\n",
              "0    우리가 몰랐던 일본의 양심, 다카자네 야스노리 유고집 발간            삶창  ...           0      10\n",
              "1        다큐멘터리 사진으로 보는 한일현대사 쟁점 다섯 가지           신동필  ...           0      91\n",
              "2      잊혀지지 않을 기억, 뮤지컬 단편영화 <언니를 기억해>           언니팀  ...           0      25\n",
              "3                    위안부 기억나비 카드지갑/팔찌        위대한 유산  ...           1    2499\n",
              "4           [ 나리 : 진실 ] - '위안부' 기억 뱃지  지지 공방/나눔 그리미  ...           1    2043\n",
              "..                                ...           ...  ...         ...     ...\n",
              "132     위안부' 기억하기 프로젝트 [소녀의 우산/거울/수건]            희움  ...           1     821\n",
              "133   함께 기억해주세요, 일본군'위안부'피해자 '기억'다이어리           모꼬지  ...           1     461\n",
              "134     2019 굿데이 프로젝트 첫번째 발자국, 한아름 키링           김영우  ...           1     279\n",
              "135                          엄마, 미안해요       이야기해주세요  ...           1     256\n",
              "136   <더라스트걸> 나는 사람이 아니었다. IS 성 노예였다.           비위드  ...           1     232\n",
              "\n",
              "[137 rows x 9 columns]"
            ]
          },
          "metadata": {},
          "execution_count": 12
        }
      ]
    },
    {
      "cell_type": "code",
      "metadata": {
        "colab": {
          "base_uri": "https://localhost:8080/"
        },
        "id": "lPogQwQgLCzD",
        "outputId": "f963e386-2dcb-4225-a3a2-2e7cf8a1d702"
      },
      "source": [
        "#데이터 정제\n",
        "data.isnull().sum() #결측치 확인"
      ],
      "execution_count": null,
      "outputs": [
        {
          "output_type": "execute_result",
          "data": {
            "text/plain": [
              "title             0\n",
              "name              0\n",
              "group             0\n",
              "class             0\n",
              "donation          0\n",
              "place            57\n",
              "participation     0\n",
              "processing        0\n",
              "rate_sp           0\n",
              "dtype: int64"
            ]
          },
          "metadata": {},
          "execution_count": 5
        }
      ]
    },
    {
      "cell_type": "code",
      "metadata": {
        "colab": {
          "base_uri": "https://localhost:8080/"
        },
        "id": "JMt8xbFJLImu",
        "outputId": "8689fb9b-fd89-4c87-df00-117d2e843895"
      },
      "source": [
        "# 결측값을 0으로 대체\n",
        "data = data.replace(np.NaN, 0)\n",
        "data.isnull().sum()"
      ],
      "execution_count": null,
      "outputs": [
        {
          "output_type": "execute_result",
          "data": {
            "text/plain": [
              "title            0\n",
              "name             0\n",
              "group            0\n",
              "class            0\n",
              "donation         0\n",
              "place            0\n",
              "participation    0\n",
              "processing       0\n",
              "rate_sp          0\n",
              "dtype: int64"
            ]
          },
          "metadata": {},
          "execution_count": 6
        }
      ]
    },
    {
      "cell_type": "code",
      "metadata": {
        "id": "GBe9cGavoGKK"
      },
      "source": [
        "import matplotlib\n",
        "from matplotlib import font_manager, rc\n",
        "import platform"
      ],
      "execution_count": null,
      "outputs": []
    },
    {
      "cell_type": "code",
      "metadata": {
        "colab": {
          "base_uri": "https://localhost:8080/",
          "height": 296
        },
        "id": "upuvoKrNLKaK",
        "outputId": "469237af-1a95-4866-8ca7-6a5341643a7b"
      },
      "source": [
        "#특정 컬럼 -> bar로 시각화해서 확인\n",
        "data['participation'].value_counts().sort_index().plot(kind='bar')\n",
        "plt.xticks(rotation =0)\n",
        "plt.xlabel(\"participation\")\n",
        "plt.ylabel(\"frequency\")"
      ],
      "execution_count": null,
      "outputs": [
        {
          "output_type": "execute_result",
          "data": {
            "text/plain": [
              "Text(0, 0.5, 'frequency')"
            ]
          },
          "metadata": {},
          "execution_count": 29
        },
        {
          "output_type": "display_data",
          "data": {
            "image/png": "[encoded data removed]",
            "text/plain": [
              "<Figure size 432x288 with 1 Axes>"
            ]
          },
          "metadata": {
            "needs_background": "light"
          }
        }
      ]
    },
    {
      "cell_type": "code",
      "metadata": {
        "colab": {
          "base_uri": "https://localhost:8080/",
          "height": 929
        },
        "id": "UVP_tyAQbm7v",
        "outputId": "c8c0e755-8b1f-475a-8dc0-2e4015a93ab2"
      },
      "source": [
        "plt.figure(figsize=(15,10))\n",
        "boxplot = data.boxplot(column=['rate_sp'], x='rate')\n",
        "plt.show()"
      ],
      "execution_count": null,
      "outputs": [
        {
          "output_type": "error",
          "ename": "TypeError",
          "evalue": "ignored",
          "traceback": [
            "\u001b[0;31m---------------------------------------------------------------------------\u001b[0m",
            "\u001b[0;31mTypeError\u001b[0m                                 Traceback (most recent call last)",
            "\u001b[0;32m<ipython-input-30-41e8250d55f3>\u001b[0m in \u001b[0;36m<module>\u001b[0;34m()\u001b[0m\n\u001b[1;32m      1\u001b[0m \u001b[0mplt\u001b[0m\u001b[0;34m.\u001b[0m\u001b[0mfigure\u001b[0m\u001b[0;34m(\u001b[0m\u001b[0mfigsize\u001b[0m\u001b[0;34m=\u001b[0m\u001b[0;34m(\u001b[0m\u001b[0;36m15\u001b[0m\u001b[0;34m,\u001b[0m\u001b[0;36m10\u001b[0m\u001b[0;34m)\u001b[0m\u001b[0;34m)\u001b[0m\u001b[0;34m\u001b[0m\u001b[0;34m\u001b[0m\u001b[0m\n\u001b[0;32m----> 2\u001b[0;31m \u001b[0mboxplot\u001b[0m \u001b[0;34m=\u001b[0m \u001b[0mdata\u001b[0m\u001b[0;34m.\u001b[0m\u001b[0mboxplot\u001b[0m\u001b[0;34m(\u001b[0m\u001b[0mcolumn\u001b[0m\u001b[0;34m=\u001b[0m\u001b[0;34m[\u001b[0m\u001b[0;34m'rate_sp'\u001b[0m\u001b[0;34m]\u001b[0m\u001b[0;34m,\u001b[0m \u001b[0mx\u001b[0m\u001b[0;34m=\u001b[0m\u001b[0;34m'rate'\u001b[0m\u001b[0;34m)\u001b[0m\u001b[0;34m\u001b[0m\u001b[0;34m\u001b[0m\u001b[0m\n\u001b[0m\u001b[1;32m      3\u001b[0m \u001b[0mplt\u001b[0m\u001b[0;34m.\u001b[0m\u001b[0mshow\u001b[0m\u001b[0;34m(\u001b[0m\u001b[0;34m)\u001b[0m\u001b[0;34m\u001b[0m\u001b[0;34m\u001b[0m\u001b[0m\n",
            "\u001b[0;32m/usr/local/lib/python3.7/dist-packages/pandas/plotting/_core.py\u001b[0m in \u001b[0;36mboxplot_frame\u001b[0;34m(self, column, by, ax, fontsize, rot, grid, figsize, layout, return_type, backend, **kwargs)\u001b[0m\n\u001b[1;32m    503\u001b[0m         \u001b[0mlayout\u001b[0m\u001b[0;34m=\u001b[0m\u001b[0mlayout\u001b[0m\u001b[0;34m,\u001b[0m\u001b[0;34m\u001b[0m\u001b[0;34m\u001b[0m\u001b[0m\n\u001b[1;32m    504\u001b[0m         \u001b[0mreturn_type\u001b[0m\u001b[0;34m=\u001b[0m\u001b[0mreturn_type\u001b[0m\u001b[0;34m,\u001b[0m\u001b[0;34m\u001b[0m\u001b[0;34m\u001b[0m\u001b[0m\n\u001b[0;32m--> 505\u001b[0;31m         \u001b[0;34m**\u001b[0m\u001b[0mkwargs\u001b[0m\u001b[0;34m,\u001b[0m\u001b[0;34m\u001b[0m\u001b[0;34m\u001b[0m\u001b[0m\n\u001b[0m\u001b[1;32m    506\u001b[0m     )\n\u001b[1;32m    507\u001b[0m \u001b[0;34m\u001b[0m\u001b[0m\n",
            "\u001b[0;32m/usr/local/lib/python3.7/dist-packages/pandas/plotting/_matplotlib/boxplot.py\u001b[0m in \u001b[0;36mboxplot_frame\u001b[0;34m(self, column, by, ax, fontsize, rot, grid, figsize, layout, return_type, **kwds)\u001b[0m\n\u001b[1;32m    389\u001b[0m         \u001b[0mlayout\u001b[0m\u001b[0;34m=\u001b[0m\u001b[0mlayout\u001b[0m\u001b[0;34m,\u001b[0m\u001b[0;34m\u001b[0m\u001b[0;34m\u001b[0m\u001b[0m\n\u001b[1;32m    390\u001b[0m         \u001b[0mreturn_type\u001b[0m\u001b[0;34m=\u001b[0m\u001b[0mreturn_type\u001b[0m\u001b[0;34m,\u001b[0m\u001b[0;34m\u001b[0m\u001b[0;34m\u001b[0m\u001b[0m\n\u001b[0;32m--> 391\u001b[0;31m         \u001b[0;34m**\u001b[0m\u001b[0mkwds\u001b[0m\u001b[0;34m,\u001b[0m\u001b[0;34m\u001b[0m\u001b[0;34m\u001b[0m\u001b[0m\n\u001b[0m\u001b[1;32m    392\u001b[0m     )\n\u001b[1;32m    393\u001b[0m     \u001b[0mplt\u001b[0m\u001b[0;34m.\u001b[0m\u001b[0mdraw_if_interactive\u001b[0m\u001b[0;34m(\u001b[0m\u001b[0;34m)\u001b[0m\u001b[0;34m\u001b[0m\u001b[0;34m\u001b[0m\u001b[0m\n",
            "\u001b[0;32m/usr/local/lib/python3.7/dist-packages/pandas/plotting/_matplotlib/boxplot.py\u001b[0m in \u001b[0;36mboxplot\u001b[0;34m(data, column, by, ax, fontsize, rot, grid, figsize, layout, return_type, **kwds)\u001b[0m\n\u001b[1;32m    357\u001b[0m             \u001b[0mdata\u001b[0m \u001b[0;34m=\u001b[0m \u001b[0mdata\u001b[0m\u001b[0;34m[\u001b[0m\u001b[0mcolumns\u001b[0m\u001b[0;34m]\u001b[0m\u001b[0;34m\u001b[0m\u001b[0;34m\u001b[0m\u001b[0m\n\u001b[1;32m    358\u001b[0m \u001b[0;34m\u001b[0m\u001b[0m\n\u001b[0;32m--> 359\u001b[0;31m         \u001b[0mresult\u001b[0m \u001b[0;34m=\u001b[0m \u001b[0mplot_group\u001b[0m\u001b[0;34m(\u001b[0m\u001b[0mcolumns\u001b[0m\u001b[0;34m,\u001b[0m \u001b[0mdata\u001b[0m\u001b[0;34m.\u001b[0m\u001b[0mvalues\u001b[0m\u001b[0;34m.\u001b[0m\u001b[0mT\u001b[0m\u001b[0;34m,\u001b[0m \u001b[0max\u001b[0m\u001b[0;34m)\u001b[0m\u001b[0;34m\u001b[0m\u001b[0;34m\u001b[0m\u001b[0m\n\u001b[0m\u001b[1;32m    360\u001b[0m         \u001b[0max\u001b[0m\u001b[0;34m.\u001b[0m\u001b[0mgrid\u001b[0m\u001b[0;34m(\u001b[0m\u001b[0mgrid\u001b[0m\u001b[0;34m)\u001b[0m\u001b[0;34m\u001b[0m\u001b[0;34m\u001b[0m\u001b[0m\n\u001b[1;32m    361\u001b[0m \u001b[0;34m\u001b[0m\u001b[0m\n",
            "\u001b[0;32m/usr/local/lib/python3.7/dist-packages/pandas/plotting/_matplotlib/boxplot.py\u001b[0m in \u001b[0;36mplot_group\u001b[0;34m(keys, values, ax)\u001b[0m\n\u001b[1;32m    296\u001b[0m         \u001b[0mkeys\u001b[0m \u001b[0;34m=\u001b[0m \u001b[0;34m[\u001b[0m\u001b[0mpprint_thing\u001b[0m\u001b[0;34m(\u001b[0m\u001b[0mx\u001b[0m\u001b[0;34m)\u001b[0m \u001b[0;32mfor\u001b[0m \u001b[0mx\u001b[0m \u001b[0;32min\u001b[0m \u001b[0mkeys\u001b[0m\u001b[0;34m]\u001b[0m\u001b[0;34m\u001b[0m\u001b[0;34m\u001b[0m\u001b[0m\n\u001b[1;32m    297\u001b[0m         \u001b[0mvalues\u001b[0m \u001b[0;34m=\u001b[0m \u001b[0;34m[\u001b[0m\u001b[0mnp\u001b[0m\u001b[0;34m.\u001b[0m\u001b[0masarray\u001b[0m\u001b[0;34m(\u001b[0m\u001b[0mremove_na_arraylike\u001b[0m\u001b[0;34m(\u001b[0m\u001b[0mv\u001b[0m\u001b[0;34m)\u001b[0m\u001b[0;34m)\u001b[0m \u001b[0;32mfor\u001b[0m \u001b[0mv\u001b[0m \u001b[0;32min\u001b[0m \u001b[0mvalues\u001b[0m\u001b[0;34m]\u001b[0m\u001b[0;34m\u001b[0m\u001b[0;34m\u001b[0m\u001b[0m\n\u001b[0;32m--> 298\u001b[0;31m         \u001b[0mbp\u001b[0m \u001b[0;34m=\u001b[0m \u001b[0max\u001b[0m\u001b[0;34m.\u001b[0m\u001b[0mboxplot\u001b[0m\u001b[0;34m(\u001b[0m\u001b[0mvalues\u001b[0m\u001b[0;34m,\u001b[0m \u001b[0;34m**\u001b[0m\u001b[0mkwds\u001b[0m\u001b[0;34m)\u001b[0m\u001b[0;34m\u001b[0m\u001b[0;34m\u001b[0m\u001b[0m\n\u001b[0m\u001b[1;32m    299\u001b[0m         \u001b[0;32mif\u001b[0m \u001b[0mfontsize\u001b[0m \u001b[0;32mis\u001b[0m \u001b[0;32mnot\u001b[0m \u001b[0;32mNone\u001b[0m\u001b[0;34m:\u001b[0m\u001b[0;34m\u001b[0m\u001b[0;34m\u001b[0m\u001b[0m\n\u001b[1;32m    300\u001b[0m             \u001b[0max\u001b[0m\u001b[0;34m.\u001b[0m\u001b[0mtick_params\u001b[0m\u001b[0;34m(\u001b[0m\u001b[0maxis\u001b[0m\u001b[0;34m=\u001b[0m\u001b[0;34m\"both\"\u001b[0m\u001b[0;34m,\u001b[0m \u001b[0mlabelsize\u001b[0m\u001b[0;34m=\u001b[0m\u001b[0mfontsize\u001b[0m\u001b[0;34m)\u001b[0m\u001b[0;34m\u001b[0m\u001b[0;34m\u001b[0m\u001b[0m\n",
            "\u001b[0;32m/usr/local/lib/python3.7/dist-packages/matplotlib/cbook/deprecation.py\u001b[0m in \u001b[0;36mwrapper\u001b[0;34m(*args, **kwargs)\u001b[0m\n\u001b[1;32m    294\u001b[0m                 f\"for the old name will be dropped %(removal)s.\")\n\u001b[1;32m    295\u001b[0m             \u001b[0mkwargs\u001b[0m\u001b[0;34m[\u001b[0m\u001b[0mnew\u001b[0m\u001b[0;34m]\u001b[0m \u001b[0;34m=\u001b[0m \u001b[0mkwargs\u001b[0m\u001b[0;34m.\u001b[0m\u001b[0mpop\u001b[0m\u001b[0;34m(\u001b[0m\u001b[0mold\u001b[0m\u001b[0;34m)\u001b[0m\u001b[0;34m\u001b[0m\u001b[0;34m\u001b[0m\u001b[0m\n\u001b[0;32m--> 296\u001b[0;31m         \u001b[0;32mreturn\u001b[0m \u001b[0mfunc\u001b[0m\u001b[0;34m(\u001b[0m\u001b[0;34m*\u001b[0m\u001b[0margs\u001b[0m\u001b[0;34m,\u001b[0m \u001b[0;34m**\u001b[0m\u001b[0mkwargs\u001b[0m\u001b[0;34m)\u001b[0m\u001b[0;34m\u001b[0m\u001b[0;34m\u001b[0m\u001b[0m\n\u001b[0m\u001b[1;32m    297\u001b[0m \u001b[0;34m\u001b[0m\u001b[0m\n\u001b[1;32m    298\u001b[0m     \u001b[0;31m# wrapper() must keep the same documented signature as func(): if we\u001b[0m\u001b[0;34m\u001b[0m\u001b[0;34m\u001b[0m\u001b[0;34m\u001b[0m\u001b[0m\n",
            "\u001b[0;32m/usr/local/lib/python3.7/dist-packages/matplotlib/__init__.py\u001b[0m in \u001b[0;36minner\u001b[0;34m(ax, data, *args, **kwargs)\u001b[0m\n\u001b[1;32m   1563\u001b[0m     \u001b[0;32mdef\u001b[0m \u001b[0minner\u001b[0m\u001b[0;34m(\u001b[0m\u001b[0max\u001b[0m\u001b[0;34m,\u001b[0m \u001b[0;34m*\u001b[0m\u001b[0margs\u001b[0m\u001b[0;34m,\u001b[0m \u001b[0mdata\u001b[0m\u001b[0;34m=\u001b[0m\u001b[0;32mNone\u001b[0m\u001b[0;34m,\u001b[0m \u001b[0;34m**\u001b[0m\u001b[0mkwargs\u001b[0m\u001b[0;34m)\u001b[0m\u001b[0;34m:\u001b[0m\u001b[0;34m\u001b[0m\u001b[0;34m\u001b[0m\u001b[0m\n\u001b[1;32m   1564\u001b[0m         \u001b[0;32mif\u001b[0m \u001b[0mdata\u001b[0m \u001b[0;32mis\u001b[0m \u001b[0;32mNone\u001b[0m\u001b[0;34m:\u001b[0m\u001b[0;34m\u001b[0m\u001b[0;34m\u001b[0m\u001b[0m\n\u001b[0;32m-> 1565\u001b[0;31m             \u001b[0;32mreturn\u001b[0m \u001b[0mfunc\u001b[0m\u001b[0;34m(\u001b[0m\u001b[0max\u001b[0m\u001b[0;34m,\u001b[0m \u001b[0;34m*\u001b[0m\u001b[0mmap\u001b[0m\u001b[0;34m(\u001b[0m\u001b[0msanitize_sequence\u001b[0m\u001b[0;34m,\u001b[0m \u001b[0margs\u001b[0m\u001b[0;34m)\u001b[0m\u001b[0;34m,\u001b[0m \u001b[0;34m**\u001b[0m\u001b[0mkwargs\u001b[0m\u001b[0;34m)\u001b[0m\u001b[0;34m\u001b[0m\u001b[0;34m\u001b[0m\u001b[0m\n\u001b[0m\u001b[1;32m   1566\u001b[0m \u001b[0;34m\u001b[0m\u001b[0m\n\u001b[1;32m   1567\u001b[0m         \u001b[0mbound\u001b[0m \u001b[0;34m=\u001b[0m \u001b[0mnew_sig\u001b[0m\u001b[0;34m.\u001b[0m\u001b[0mbind\u001b[0m\u001b[0;34m(\u001b[0m\u001b[0max\u001b[0m\u001b[0;34m,\u001b[0m \u001b[0;34m*\u001b[0m\u001b[0margs\u001b[0m\u001b[0;34m,\u001b[0m \u001b[0;34m**\u001b[0m\u001b[0mkwargs\u001b[0m\u001b[0;34m)\u001b[0m\u001b[0;34m\u001b[0m\u001b[0;34m\u001b[0m\u001b[0m\n",
            "\u001b[0;31mTypeError\u001b[0m: boxplot() got multiple values for argument 'x'"
          ]
        },
        {
          "output_type": "display_data",
          "data": {
            "image/png": "[encoded data removed]",
            "text/plain": [
              "<Figure size 1080x720 with 1 Axes>"
            ]
          },
          "metadata": {
            "needs_background": "light"
          }
        }
      ]
    },
    {
      "cell_type": "code",
      "metadata": {
        "id": "9w0KeI3IMMLD",
        "colab": {
          "base_uri": "https://localhost:8080/",
          "height": 498
        },
        "outputId": "90846d9e-a067-4659-822b-80b462fb0828"
      },
      "source": [
        "#상관관계 확인\n",
        "plt.figure(figsize=(15,10))\n",
        "sns.heatmap(data.corr(), annot=True, cmap='BuGn') "
      ],
      "execution_count": null,
      "outputs": [
        {
          "output_type": "execute_result",
          "data": {
            "text/plain": [
              "<matplotlib.axes._subplots.AxesSubplot at 0x7f4be1c5cad0>"
            ]
          },
          "metadata": {},
          "execution_count": 17
        },
        {
          "output_type": "display_data",
          "data": {
            "image/png": "[encoded data removed]",
            "text/plain": [
              "<Figure size 1080x720 with 2 Axes>"
            ]
          },
          "metadata": {
            "needs_background": "light"
          }
        }
      ]
    },
    {
      "cell_type": "code",
      "metadata": {
        "id": "hVkq0GahJ1T9",
        "colab": {
          "base_uri": "https://localhost:8080/",
          "height": 1000
        },
        "outputId": "eded4aa6-e6e3-45cf-9e30-75731ab7186b"
      },
      "source": [
        "!pip install pingouin"
      ],
      "execution_count": null,
      "outputs": [
        {
          "output_type": "stream",
          "name": "stdout",
          "text": [
            "Collecting pingouin\n",
            "  Downloading pingouin-0.4.0.tar.gz (206 kB)\n",
            "\u001b[?25l\r\u001b[K     |█▋                              | 10 kB 20.5 MB/s eta 0:00:01\r\u001b[K     |███▏                            | 20 kB 9.1 MB/s eta 0:00:01\r\u001b[K     |████▊                           | 30 kB 6.6 MB/s eta 0:00:01\r\u001b[K     |██████▍                         | 40 kB 3.7 MB/s eta 0:00:01\r\u001b[K     |████████                        | 51 kB 4.1 MB/s eta 0:00:01\r\u001b[K     |█████████▌                      | 61 kB 4.3 MB/s eta 0:00:01\r\u001b[K     |███████████                     | 71 kB 4.7 MB/s eta 0:00:01\r\u001b[K     |████████████▊                   | 81 kB 4.3 MB/s eta 0:00:01\r\u001b[K     |██████████████▎                 | 92 kB 3.7 MB/s eta 0:00:01\r\u001b[K     |███████████████▉                | 102 kB 4.1 MB/s eta 0:00:01\r\u001b[K     |█████████████████▍              | 112 kB 4.1 MB/s eta 0:00:01\r\u001b[K     |███████████████████             | 122 kB 4.1 MB/s eta 0:00:01\r\u001b[K     |████████████████████▋           | 133 kB 4.1 MB/s eta 0:00:01\r\u001b[K     |██████████████████████▏         | 143 kB 4.1 MB/s eta 0:00:01\r\u001b[K     |███████████████████████▊        | 153 kB 4.1 MB/s eta 0:00:01\r\u001b[K     |█████████████████████████▍      | 163 kB 4.1 MB/s eta 0:00:01\r\u001b[K     |███████████████████████████     | 174 kB 4.1 MB/s eta 0:00:01\r\u001b[K     |████████████████████████████▌   | 184 kB 4.1 MB/s eta 0:00:01\r\u001b[K     |██████████████████████████████  | 194 kB 4.1 MB/s eta 0:00:01\r\u001b[K     |███████████████████████████████▊| 204 kB 4.1 MB/s eta 0:00:01\r\u001b[K     |████████████████████████████████| 206 kB 4.1 MB/s \n",
            "\u001b[?25hRequirement already satisfied: numpy>=1.19 in /usr/local/lib/python3.7/dist-packages (from pingouin) (1.19.5)\n",
            "Collecting scipy>=1.7\n",
            "  Downloading scipy-1.7.1-cp37-cp37m-manylinux_2_5_x86_64.manylinux1_x86_64.whl (28.5 MB)\n",
            "\u001b[K     |████████████████████████████████| 28.5 MB 50 kB/s \n",
            "\u001b[?25hRequirement already satisfied: pandas>=1.0 in /usr/local/lib/python3.7/dist-packages (from pingouin) (1.1.5)\n",
            "Requirement already satisfied: matplotlib>=3.0.2 in /usr/local/lib/python3.7/dist-packages (from pingouin) (3.2.2)\n",
            "Requirement already satisfied: seaborn>=0.9.0 in /usr/local/lib/python3.7/dist-packages (from pingouin) (0.11.1)\n",
            "Collecting statsmodels>=0.12.0\n",
            "  Downloading statsmodels-0.12.2-cp37-cp37m-manylinux1_x86_64.whl (9.5 MB)\n",
            "\u001b[K     |████████████████████████████████| 9.5 MB 44.6 MB/s \n",
            "\u001b[?25hRequirement already satisfied: scikit-learn in /usr/local/lib/python3.7/dist-packages (from pingouin) (0.22.2.post1)\n",
            "Collecting pandas_flavor>=0.2.0\n",
            "  Downloading pandas_flavor-0.2.0-py2.py3-none-any.whl (6.6 kB)\n",
            "Collecting outdated\n",
            "  Downloading outdated-0.2.1-py3-none-any.whl (7.5 kB)\n",
            "Requirement already satisfied: tabulate in /usr/local/lib/python3.7/dist-packages (from pingouin) (0.8.9)\n",
            "Requirement already satisfied: python-dateutil>=2.1 in /usr/local/lib/python3.7/dist-packages (from matplotlib>=3.0.2->pingouin) (2.8.2)\n",
            "Requirement already satisfied: kiwisolver>=1.0.1 in /usr/local/lib/python3.7/dist-packages (from matplotlib>=3.0.2->pingouin) (1.3.1)\n",
            "Requirement already satisfied: cycler>=0.10 in /usr/local/lib/python3.7/dist-packages (from matplotlib>=3.0.2->pingouin) (0.10.0)\n",
            "Requirement already satisfied: pyparsing!=2.0.4,!=2.1.2,!=2.1.6,>=2.0.1 in /usr/local/lib/python3.7/dist-packages (from matplotlib>=3.0.2->pingouin) (2.4.7)\n",
            "Requirement already satisfied: six in /usr/local/lib/python3.7/dist-packages (from cycler>=0.10->matplotlib>=3.0.2->pingouin) (1.15.0)\n",
            "Requirement already satisfied: pytz>=2017.2 in /usr/local/lib/python3.7/dist-packages (from pandas>=1.0->pingouin) (2018.9)\n",
            "Requirement already satisfied: xarray in /usr/local/lib/python3.7/dist-packages (from pandas_flavor>=0.2.0->pingouin) (0.18.2)\n",
            "Requirement already satisfied: patsy>=0.5 in /usr/local/lib/python3.7/dist-packages (from statsmodels>=0.12.0->pingouin) (0.5.1)\n",
            "Collecting littleutils\n",
            "  Downloading littleutils-0.2.2.tar.gz (6.6 kB)\n",
            "Requirement already satisfied: requests in /usr/local/lib/python3.7/dist-packages (from outdated->pingouin) (2.23.0)\n",
            "Requirement already satisfied: certifi>=2017.4.17 in /usr/local/lib/python3.7/dist-packages (from requests->outdated->pingouin) (2021.5.30)\n",
            "Requirement already satisfied: idna<3,>=2.5 in /usr/local/lib/python3.7/dist-packages (from requests->outdated->pingouin) (2.10)\n",
            "Requirement already satisfied: urllib3!=1.25.0,!=1.25.1,<1.26,>=1.21.1 in /usr/local/lib/python3.7/dist-packages (from requests->outdated->pingouin) (1.24.3)\n",
            "Requirement already satisfied: chardet<4,>=3.0.2 in /usr/local/lib/python3.7/dist-packages (from requests->outdated->pingouin) (3.0.4)\n",
            "Requirement already satisfied: joblib>=0.11 in /usr/local/lib/python3.7/dist-packages (from scikit-learn->pingouin) (1.0.1)\n",
            "Requirement already satisfied: setuptools>=40.4 in /usr/local/lib/python3.7/dist-packages (from xarray->pandas_flavor>=0.2.0->pingouin) (57.4.0)\n",
            "Building wheels for collected packages: pingouin, littleutils\n",
            "  Building wheel for pingouin (setup.py) ... \u001b[?25l\u001b[?25hdone\n",
            "  Created wheel for pingouin: filename=pingouin-0.4.0-py3-none-any.whl size=206904 sha256=5f88b85b93fec823fd77b6efe58c27f157c62fa674df78c8bbe21d79dee501b7\n",
            "  Stored in directory: /root/.cache/pip/wheels/8a/9d/c4/11677c2c4d5c0df9d1d4aa61528d868bb96e13b898e3f51c95\n",
            "  Building wheel for littleutils (setup.py) ... \u001b[?25l\u001b[?25hdone\n",
            "  Created wheel for littleutils: filename=littleutils-0.2.2-py3-none-any.whl size=7048 sha256=14ef2b5c7a92dd1ee4c74fc3937797de4e9fe73298d8b34b710be18fd9205898\n",
            "  Stored in directory: /root/.cache/pip/wheels/d6/64/cd/32819b511a488e4993f2fab909a95330289c3f4e0f6ef4676d\n",
            "Successfully built pingouin littleutils\n",
            "Installing collected packages: scipy, littleutils, statsmodels, pandas-flavor, outdated, pingouin\n",
            "  Attempting uninstall: scipy\n",
            "    Found existing installation: scipy 1.4.1\n",
            "    Uninstalling scipy-1.4.1:\n",
            "      Successfully uninstalled scipy-1.4.1\n",
            "  Attempting uninstall: statsmodels\n",
            "    Found existing installation: statsmodels 0.10.2\n",
            "    Uninstalling statsmodels-0.10.2:\n",
            "      Successfully uninstalled statsmodels-0.10.2\n",
            "\u001b[31mERROR: pip's dependency resolver does not currently take into account all the packages that are installed. This behaviour is the source of the following dependency conflicts.\n",
            "albumentations 0.1.12 requires imgaug<0.2.7,>=0.2.5, but you have imgaug 0.2.9 which is incompatible.\u001b[0m\n",
            "Successfully installed littleutils-0.2.2 outdated-0.2.1 pandas-flavor-0.2.0 pingouin-0.4.0 scipy-1.7.1 statsmodels-0.12.2\n"
          ]
        },
        {
          "output_type": "display_data",
          "data": {
            "application/vnd.colab-display-data+json": {
              "pip_warning": {
                "packages": [
                  "scipy",
                  "statsmodels"
                ]
              }
            }
          },
          "metadata": {}
        }
      ]
    },
    {
      "cell_type": "code",
      "metadata": {
        "id": "VUILdoNXy1Sc"
      },
      "source": [
        "#상관관계 분석 \n",
        "\n",
        "import pingouin as pg\n",
        "ng = pd.read_excel('data.xlsx')"
      ],
      "execution_count": null,
      "outputs": []
    },
    {
      "cell_type": "code",
      "metadata": {
        "colab": {
          "base_uri": "https://localhost:8080/",
          "height": 1000
        },
        "id": "3OCtVEEvLvpB",
        "outputId": "b18cad65-0009-4a25-a914-5fce8c8a8677"
      },
      "source": [
        "data"
      ],
      "execution_count": null,
      "outputs": [
        {
          "output_type": "execute_result",
          "data": {
            "text/html": [
              "<div>\n",
              "<style scoped>\n",
              "    .dataframe tbody tr th:only-of-type {\n",
              "        vertical-align: middle;\n",
              "    }\n",
              "\n",
              "    .dataframe tbody tr th {\n",
              "        vertical-align: top;\n",
              "    }\n",
              "\n",
              "    .dataframe thead th {\n",
              "        text-align: right;\n",
              "    }\n",
              "</style>\n",
              "<table border=\"1\" class=\"dataframe\">\n",
              "  <thead>\n",
              "    <tr style=\"text-align: right;\">\n",
              "      <th></th>\n",
              "      <th>title</th>\n",
              "      <th>name</th>\n",
              "      <th>group</th>\n",
              "      <th>class</th>\n",
              "      <th>donation</th>\n",
              "      <th>place</th>\n",
              "      <th>participation</th>\n",
              "      <th>processing</th>\n",
              "      <th>rate_sp</th>\n",
              "    </tr>\n",
              "  </thead>\n",
              "  <tbody>\n",
              "    <tr>\n",
              "      <th>0</th>\n",
              "      <td>우리가 몰랐던 일본의 양심, 다카자네 야스노리 유고집 발간</td>\n",
              "      <td>삶창</td>\n",
              "      <td>0</td>\n",
              "      <td>기업</td>\n",
              "      <td>0</td>\n",
              "      <td>0</td>\n",
              "      <td>1</td>\n",
              "      <td>0</td>\n",
              "      <td>10</td>\n",
              "    </tr>\n",
              "    <tr>\n",
              "      <th>1</th>\n",
              "      <td>다큐멘터리 사진으로 보는 한일현대사 쟁점 다섯 가지</td>\n",
              "      <td>신동필</td>\n",
              "      <td>1</td>\n",
              "      <td>예술인</td>\n",
              "      <td>0</td>\n",
              "      <td>0</td>\n",
              "      <td>1</td>\n",
              "      <td>0</td>\n",
              "      <td>91</td>\n",
              "    </tr>\n",
              "    <tr>\n",
              "      <th>2</th>\n",
              "      <td>잊혀지지 않을 기억, 뮤지컬 단편영화 &lt;언니를 기억해&gt;</td>\n",
              "      <td>언니팀</td>\n",
              "      <td>0</td>\n",
              "      <td>대학생</td>\n",
              "      <td>0</td>\n",
              "      <td>0</td>\n",
              "      <td>1</td>\n",
              "      <td>0</td>\n",
              "      <td>25</td>\n",
              "    </tr>\n",
              "    <tr>\n",
              "      <th>3</th>\n",
              "      <td>위안부 기억나비 카드지갑/팔찌</td>\n",
              "      <td>위대한 유산</td>\n",
              "      <td>0</td>\n",
              "      <td>사회단체</td>\n",
              "      <td>1</td>\n",
              "      <td>나눔의집</td>\n",
              "      <td>3</td>\n",
              "      <td>1</td>\n",
              "      <td>2499</td>\n",
              "    </tr>\n",
              "    <tr>\n",
              "      <th>4</th>\n",
              "      <td>[ 나리 : 진실 ] - '위안부' 기억 뱃지</td>\n",
              "      <td>지지 공방/나눔 그리미</td>\n",
              "      <td>0</td>\n",
              "      <td>고등학생</td>\n",
              "      <td>1</td>\n",
              "      <td>나눔의집</td>\n",
              "      <td>1</td>\n",
              "      <td>1</td>\n",
              "      <td>2043</td>\n",
              "    </tr>\n",
              "    <tr>\n",
              "      <th>...</th>\n",
              "      <td>...</td>\n",
              "      <td>...</td>\n",
              "      <td>...</td>\n",
              "      <td>...</td>\n",
              "      <td>...</td>\n",
              "      <td>...</td>\n",
              "      <td>...</td>\n",
              "      <td>...</td>\n",
              "      <td>...</td>\n",
              "    </tr>\n",
              "    <tr>\n",
              "      <th>132</th>\n",
              "      <td>위안부' 기억하기 프로젝트 [소녀의 우산/거울/수건]</td>\n",
              "      <td>희움</td>\n",
              "      <td>0</td>\n",
              "      <td>기업</td>\n",
              "      <td>1</td>\n",
              "      <td>희움씨앗기금</td>\n",
              "      <td>2</td>\n",
              "      <td>1</td>\n",
              "      <td>821</td>\n",
              "    </tr>\n",
              "    <tr>\n",
              "      <th>133</th>\n",
              "      <td>함께 기억해주세요, 일본군'위안부'피해자 '기억'다이어리</td>\n",
              "      <td>모꼬지</td>\n",
              "      <td>0</td>\n",
              "      <td>중학생</td>\n",
              "      <td>1</td>\n",
              "      <td>나눔의집</td>\n",
              "      <td>1</td>\n",
              "      <td>1</td>\n",
              "      <td>461</td>\n",
              "    </tr>\n",
              "    <tr>\n",
              "      <th>134</th>\n",
              "      <td>2019 굿데이 프로젝트 첫번째 발자국, 한아름 키링</td>\n",
              "      <td>김영우</td>\n",
              "      <td>1</td>\n",
              "      <td>기타</td>\n",
              "      <td>1</td>\n",
              "      <td>정의기억연대</td>\n",
              "      <td>3</td>\n",
              "      <td>1</td>\n",
              "      <td>279</td>\n",
              "    </tr>\n",
              "    <tr>\n",
              "      <th>135</th>\n",
              "      <td>엄마, 미안해요</td>\n",
              "      <td>이야기해주세요</td>\n",
              "      <td>0</td>\n",
              "      <td>예술인</td>\n",
              "      <td>0</td>\n",
              "      <td>0</td>\n",
              "      <td>1</td>\n",
              "      <td>1</td>\n",
              "      <td>256</td>\n",
              "    </tr>\n",
              "    <tr>\n",
              "      <th>136</th>\n",
              "      <td>&lt;더라스트걸&gt; 나는 사람이 아니었다. IS 성 노예였다.</td>\n",
              "      <td>비위드</td>\n",
              "      <td>0</td>\n",
              "      <td>사회단체</td>\n",
              "      <td>1</td>\n",
              "      <td>전쟁과여성인권박물관</td>\n",
              "      <td>2</td>\n",
              "      <td>1</td>\n",
              "      <td>232</td>\n",
              "    </tr>\n",
              "  </tbody>\n",
              "</table>\n",
              "<p>137 rows × 9 columns</p>\n",
              "</div>"
            ],
            "text/plain": [
              "                                title          name  ...  processing rate_sp\n",
              "0    우리가 몰랐던 일본의 양심, 다카자네 야스노리 유고집 발간            삶창  ...           0      10\n",
              "1        다큐멘터리 사진으로 보는 한일현대사 쟁점 다섯 가지           신동필  ...           0      91\n",
              "2      잊혀지지 않을 기억, 뮤지컬 단편영화 <언니를 기억해>           언니팀  ...           0      25\n",
              "3                    위안부 기억나비 카드지갑/팔찌        위대한 유산  ...           1    2499\n",
              "4           [ 나리 : 진실 ] - '위안부' 기억 뱃지  지지 공방/나눔 그리미  ...           1    2043\n",
              "..                                ...           ...  ...         ...     ...\n",
              "132     위안부' 기억하기 프로젝트 [소녀의 우산/거울/수건]            희움  ...           1     821\n",
              "133   함께 기억해주세요, 일본군'위안부'피해자 '기억'다이어리           모꼬지  ...           1     461\n",
              "134     2019 굿데이 프로젝트 첫번째 발자국, 한아름 키링           김영우  ...           1     279\n",
              "135                          엄마, 미안해요       이야기해주세요  ...           1     256\n",
              "136   <더라스트걸> 나는 사람이 아니었다. IS 성 노예였다.           비위드  ...           1     232\n",
              "\n",
              "[137 rows x 9 columns]"
            ]
          },
          "metadata": {},
          "execution_count": 21
        }
      ]
    },
    {
      "cell_type": "code",
      "metadata": {
        "id": "ZMgb9P2tzsMj"
      },
      "source": [
        "# 달성률과 집단의 상관관계\n",
        "pg.corr(ng.rate, ng.group)"
      ],
      "execution_count": null,
      "outputs": []
    },
    {
      "cell_type": "code",
      "metadata": {
        "id": "8yuzG6O3z3rG"
      },
      "source": [
        "# 달성률과 기부유무의 상관관계\n",
        "pg.corr(ng.rate, ng.donation)"
      ],
      "execution_count": null,
      "outputs": []
    },
    {
      "cell_type": "code",
      "metadata": {
        "id": "79Qn9H6zz78H"
      },
      "source": [
        "# 달성률과 참여횟수의 상관관계\n",
        "pg.corr(ng.participation, ng.rate)"
      ],
      "execution_count": null,
      "outputs": []
    },
    {
      "cell_type": "code",
      "metadata": {
        "colab": {
          "base_uri": "https://localhost:8080/",
          "height": 252
        },
        "id": "ydfvlsmBr4A4",
        "outputId": "cd95a9bd-d81f-404c-c120-7433b83b9161"
      },
      "source": [
        "data.head()"
      ],
      "execution_count": null,
      "outputs": [
        {
          "output_type": "execute_result",
          "data": {
            "text/html": [
              "<div>\n",
              "<style scoped>\n",
              "    .dataframe tbody tr th:only-of-type {\n",
              "        vertical-align: middle;\n",
              "    }\n",
              "\n",
              "    .dataframe tbody tr th {\n",
              "        vertical-align: top;\n",
              "    }\n",
              "\n",
              "    .dataframe thead th {\n",
              "        text-align: right;\n",
              "    }\n",
              "</style>\n",
              "<table border=\"1\" class=\"dataframe\">\n",
              "  <thead>\n",
              "    <tr style=\"text-align: right;\">\n",
              "      <th></th>\n",
              "      <th>title</th>\n",
              "      <th>name</th>\n",
              "      <th>group</th>\n",
              "      <th>class</th>\n",
              "      <th>donation</th>\n",
              "      <th>place</th>\n",
              "      <th>participation</th>\n",
              "      <th>processing</th>\n",
              "      <th>rate_sp</th>\n",
              "    </tr>\n",
              "  </thead>\n",
              "  <tbody>\n",
              "    <tr>\n",
              "      <th>0</th>\n",
              "      <td>우리가 몰랐던 일본의 양심, 다카자네 야스노리 유고집 발간</td>\n",
              "      <td>삶창</td>\n",
              "      <td>0</td>\n",
              "      <td>기업</td>\n",
              "      <td>0</td>\n",
              "      <td>0</td>\n",
              "      <td>1</td>\n",
              "      <td>0</td>\n",
              "      <td>10</td>\n",
              "    </tr>\n",
              "    <tr>\n",
              "      <th>1</th>\n",
              "      <td>다큐멘터리 사진으로 보는 한일현대사 쟁점 다섯 가지</td>\n",
              "      <td>신동필</td>\n",
              "      <td>1</td>\n",
              "      <td>예술인</td>\n",
              "      <td>0</td>\n",
              "      <td>0</td>\n",
              "      <td>1</td>\n",
              "      <td>0</td>\n",
              "      <td>91</td>\n",
              "    </tr>\n",
              "    <tr>\n",
              "      <th>2</th>\n",
              "      <td>잊혀지지 않을 기억, 뮤지컬 단편영화 &lt;언니를 기억해&gt;</td>\n",
              "      <td>언니팀</td>\n",
              "      <td>0</td>\n",
              "      <td>대학생</td>\n",
              "      <td>0</td>\n",
              "      <td>0</td>\n",
              "      <td>1</td>\n",
              "      <td>0</td>\n",
              "      <td>25</td>\n",
              "    </tr>\n",
              "    <tr>\n",
              "      <th>3</th>\n",
              "      <td>위안부 기억나비 카드지갑/팔찌</td>\n",
              "      <td>위대한 유산</td>\n",
              "      <td>0</td>\n",
              "      <td>사회단체</td>\n",
              "      <td>1</td>\n",
              "      <td>나눔의집</td>\n",
              "      <td>3</td>\n",
              "      <td>1</td>\n",
              "      <td>2499</td>\n",
              "    </tr>\n",
              "    <tr>\n",
              "      <th>4</th>\n",
              "      <td>[ 나리 : 진실 ] - '위안부' 기억 뱃지</td>\n",
              "      <td>지지 공방/나눔 그리미</td>\n",
              "      <td>0</td>\n",
              "      <td>고등학생</td>\n",
              "      <td>1</td>\n",
              "      <td>나눔의집</td>\n",
              "      <td>1</td>\n",
              "      <td>1</td>\n",
              "      <td>2043</td>\n",
              "    </tr>\n",
              "  </tbody>\n",
              "</table>\n",
              "</div>"
            ],
            "text/plain": [
              "                              title          name  ...  processing rate_sp\n",
              "0  우리가 몰랐던 일본의 양심, 다카자네 야스노리 유고집 발간            삶창  ...           0      10\n",
              "1      다큐멘터리 사진으로 보는 한일현대사 쟁점 다섯 가지           신동필  ...           0      91\n",
              "2    잊혀지지 않을 기억, 뮤지컬 단편영화 <언니를 기억해>           언니팀  ...           0      25\n",
              "3                  위안부 기억나비 카드지갑/팔찌        위대한 유산  ...           1    2499\n",
              "4         [ 나리 : 진실 ] - '위안부' 기억 뱃지  지지 공방/나눔 그리미  ...           1    2043\n",
              "\n",
              "[5 rows x 9 columns]"
            ]
          },
          "metadata": {},
          "execution_count": 10
        }
      ]
    },
    {
      "cell_type": "markdown",
      "metadata": {
        "id": "zLlP5rsXtByd"
      },
      "source": [
        "# 가설 2번 참여횟수별 달성률 평균"
      ]
    },
    {
      "cell_type": "code",
      "metadata": {
        "id": "zRTB6z6K1PX1",
        "colab": {
          "base_uri": "https://localhost:8080/"
        },
        "outputId": "dac44599-1491-4464-96e8-177bd61f40d8"
      },
      "source": [
        "# 가설 3번 : 참여횟수 집단 1 (참여횟수가 1번)\n",
        "par_1 = data.loc[data['participation'] == 1]\n",
        "par_1 = par_1[['participation', 'rate_sp']]\n",
        "par_1.head()\n",
        "par_1.shape"
      ],
      "execution_count": null,
      "outputs": [
        {
          "output_type": "execute_result",
          "data": {
            "text/plain": [
              "(97, 2)"
            ]
          },
          "metadata": {},
          "execution_count": 19
        }
      ]
    },
    {
      "cell_type": "code",
      "metadata": {
        "id": "ZkdTTitq2aJe",
        "colab": {
          "base_uri": "https://localhost:8080/"
        },
        "outputId": "08afd518-5f01-4e5c-cccf-37282768435a"
      },
      "source": [
        "# 가설 3번 : 참여횟수 집단2 (참여횟수가 2번)\n",
        "par_2 = data.loc[data['participation'] == 2]\n",
        "par_2 = par_2[['participation', 'rate_sp']]\n",
        "par_2.head()\n",
        "par_2.shape"
      ],
      "execution_count": null,
      "outputs": [
        {
          "output_type": "execute_result",
          "data": {
            "text/plain": [
              "(23, 2)"
            ]
          },
          "metadata": {},
          "execution_count": 16
        }
      ]
    },
    {
      "cell_type": "code",
      "metadata": {
        "colab": {
          "base_uri": "https://localhost:8080/"
        },
        "id": "YsvO63SislcZ",
        "outputId": "fb36ed7b-00c4-478f-d839-2805b9ca28ff"
      },
      "source": [
        "# 가설 3번 : 참여횟수 집단3 (참여횟수가 3번)\n",
        "par_3 = data.loc[data['participation'] == 3]\n",
        "par_3 = par_3[['participation', 'rate_sp']]\n",
        "par_3.shape"
      ],
      "execution_count": null,
      "outputs": [
        {
          "output_type": "execute_result",
          "data": {
            "text/plain": [
              "(17, 2)"
            ]
          },
          "metadata": {},
          "execution_count": 20
        }
      ]
    },
    {
      "cell_type": "code",
      "metadata": {
        "colab": {
          "base_uri": "https://localhost:8080/"
        },
        "id": "feI7iv7vxe-H",
        "outputId": "0492486d-d3c4-4268-b212-d576f361b233"
      },
      "source": [
        "par_4 = data.loc[data['participation'] > 1]\n",
        "par_4 = par_4[['participation', 'rate_sp']]\n",
        "par_4.shape"
      ],
      "execution_count": null,
      "outputs": [
        {
          "output_type": "execute_result",
          "data": {
            "text/plain": [
              "(40, 2)"
            ]
          },
          "metadata": {},
          "execution_count": 29
        }
      ]
    },
    {
      "cell_type": "code",
      "metadata": {
        "id": "u0qRmVD5xnqu",
        "colab": {
          "base_uri": "https://localhost:8080/"
        },
        "outputId": "d1d4dd60-f404-4773-cef6-56a881df8bec"
      },
      "source": [
        "mean1 = par_1.mean()\n",
        "mean1"
      ],
      "execution_count": null,
      "outputs": [
        {
          "output_type": "execute_result",
          "data": {
            "text/plain": [
              "participation      1.000000\n",
              "rate_sp          213.649485\n",
              "dtype: float64"
            ]
          },
          "metadata": {},
          "execution_count": 46
        }
      ]
    },
    {
      "cell_type": "code",
      "metadata": {
        "colab": {
          "base_uri": "https://localhost:8080/"
        },
        "id": "PVmJtVpXxxlF",
        "outputId": "164e270a-18a3-4381-b8c8-cedb57a3541d"
      },
      "source": [
        "mean4 = par_4.mean()\n",
        "mean4"
      ],
      "execution_count": null,
      "outputs": [
        {
          "output_type": "execute_result",
          "data": {
            "text/plain": [
              "participation      2.425\n",
              "rate_sp          332.400\n",
              "dtype: float64"
            ]
          },
          "metadata": {},
          "execution_count": 47
        }
      ]
    },
    {
      "cell_type": "code",
      "metadata": {
        "colab": {
          "base_uri": "https://localhost:8080/",
          "height": 294
        },
        "id": "uXC-L09wyCS7",
        "outputId": "0209cb6d-22d6-4101-e3a9-44dd45787831"
      },
      "source": [
        "group_1 = 213.649485\n",
        "group_2 = 332.4\n",
        "label = ['group_1','group_2']\n",
        "index = np.arange(len(label))\n",
        "\n",
        "plt.bar(index,label)\n",
        "plt.xlabel('participation group',fontsize=18)\n",
        "plt.ylabel('rate',fontsize=18)\n",
        "plt.xticks(index, label, fontsize=15)\n",
        "plt.show()"
      ],
      "execution_count": null,
      "outputs": [
        {
          "output_type": "display_data",
          "data": {
            "image/png": "[encoded data removed]",
            "text/plain": [
              "<Figure size 432x288 with 1 Axes>"
            ]
          },
          "metadata": {
            "needs_background": "light"
          }
        }
      ]
    },
    {
      "cell_type": "code",
      "metadata": {
        "id": "p8KqmlDO5dz7",
        "colab": {
          "base_uri": "https://localhost:8080/",
          "height": 171
        },
        "outputId": "a2afd97d-3141-4cd1-87ce-b3a48cbd9c39"
      },
      "source": [
        "data.groupby(['participation']).median() "
      ],
      "execution_count": null,
      "outputs": [
        {
          "output_type": "execute_result",
          "data": {
            "text/html": [
              "<div>\n",
              "<style scoped>\n",
              "    .dataframe tbody tr th:only-of-type {\n",
              "        vertical-align: middle;\n",
              "    }\n",
              "\n",
              "    .dataframe tbody tr th {\n",
              "        vertical-align: top;\n",
              "    }\n",
              "\n",
              "    .dataframe thead th {\n",
              "        text-align: right;\n",
              "    }\n",
              "</style>\n",
              "<table border=\"1\" class=\"dataframe\">\n",
              "  <thead>\n",
              "    <tr style=\"text-align: right;\">\n",
              "      <th></th>\n",
              "      <th>0</th>\n",
              "      <th>group</th>\n",
              "      <th>donation</th>\n",
              "      <th>processing</th>\n",
              "      <th>rate</th>\n",
              "      <th>rate_sp</th>\n",
              "    </tr>\n",
              "    <tr>\n",
              "      <th>participation</th>\n",
              "      <th></th>\n",
              "      <th></th>\n",
              "      <th></th>\n",
              "      <th></th>\n",
              "      <th></th>\n",
              "      <th></th>\n",
              "    </tr>\n",
              "  </thead>\n",
              "  <tbody>\n",
              "    <tr>\n",
              "      <th>1</th>\n",
              "      <td>65</td>\n",
              "      <td>0</td>\n",
              "      <td>1</td>\n",
              "      <td>1</td>\n",
              "      <td>1.36</td>\n",
              "      <td>136</td>\n",
              "    </tr>\n",
              "    <tr>\n",
              "      <th>2</th>\n",
              "      <td>78</td>\n",
              "      <td>0</td>\n",
              "      <td>1</td>\n",
              "      <td>1</td>\n",
              "      <td>1.25</td>\n",
              "      <td>125</td>\n",
              "    </tr>\n",
              "    <tr>\n",
              "      <th>3</th>\n",
              "      <td>39</td>\n",
              "      <td>0</td>\n",
              "      <td>1</td>\n",
              "      <td>1</td>\n",
              "      <td>2.79</td>\n",
              "      <td>279</td>\n",
              "    </tr>\n",
              "  </tbody>\n",
              "</table>\n",
              "</div>"
            ],
            "text/plain": [
              "                0  group  donation  processing  rate  rate_sp\n",
              "participation                                                \n",
              "1              65      0         1           1  1.36      136\n",
              "2              78      0         1           1  1.25      125\n",
              "3              39      0         1           1  2.79      279"
            ]
          },
          "metadata": {},
          "execution_count": 24
        }
      ]
    },
    {
      "cell_type": "code",
      "metadata": {
        "colab": {
          "base_uri": "https://localhost:8080/",
          "height": 415
        },
        "id": "JhtiBob0wzSj",
        "outputId": "3e31f726-51aa-4422-a36f-3c7d1f52a46e"
      },
      "source": [
        "par_1_rate = par_1[['rate_sp']]\n",
        "par_1_rate"
      ],
      "execution_count": null,
      "outputs": [
        {
          "output_type": "execute_result",
          "data": {
            "text/html": [
              "<div>\n",
              "<style scoped>\n",
              "    .dataframe tbody tr th:only-of-type {\n",
              "        vertical-align: middle;\n",
              "    }\n",
              "\n",
              "    .dataframe tbody tr th {\n",
              "        vertical-align: top;\n",
              "    }\n",
              "\n",
              "    .dataframe thead th {\n",
              "        text-align: right;\n",
              "    }\n",
              "</style>\n",
              "<table border=\"1\" class=\"dataframe\">\n",
              "  <thead>\n",
              "    <tr style=\"text-align: right;\">\n",
              "      <th></th>\n",
              "      <th>rate_sp</th>\n",
              "    </tr>\n",
              "  </thead>\n",
              "  <tbody>\n",
              "    <tr>\n",
              "      <th>0</th>\n",
              "      <td>10</td>\n",
              "    </tr>\n",
              "    <tr>\n",
              "      <th>1</th>\n",
              "      <td>91</td>\n",
              "    </tr>\n",
              "    <tr>\n",
              "      <th>2</th>\n",
              "      <td>25</td>\n",
              "    </tr>\n",
              "    <tr>\n",
              "      <th>4</th>\n",
              "      <td>2043</td>\n",
              "    </tr>\n",
              "    <tr>\n",
              "      <th>5</th>\n",
              "      <td>1494</td>\n",
              "    </tr>\n",
              "    <tr>\n",
              "      <th>...</th>\n",
              "      <td>...</td>\n",
              "    </tr>\n",
              "    <tr>\n",
              "      <th>129</th>\n",
              "      <td>41</td>\n",
              "    </tr>\n",
              "    <tr>\n",
              "      <th>130</th>\n",
              "      <td>8</td>\n",
              "    </tr>\n",
              "    <tr>\n",
              "      <th>131</th>\n",
              "      <td>1242</td>\n",
              "    </tr>\n",
              "    <tr>\n",
              "      <th>133</th>\n",
              "      <td>461</td>\n",
              "    </tr>\n",
              "    <tr>\n",
              "      <th>135</th>\n",
              "      <td>256</td>\n",
              "    </tr>\n",
              "  </tbody>\n",
              "</table>\n",
              "<p>97 rows × 1 columns</p>\n",
              "</div>"
            ],
            "text/plain": [
              "     rate_sp\n",
              "0         10\n",
              "1         91\n",
              "2         25\n",
              "4       2043\n",
              "5       1494\n",
              "..       ...\n",
              "129       41\n",
              "130        8\n",
              "131     1242\n",
              "133      461\n",
              "135      256\n",
              "\n",
              "[97 rows x 1 columns]"
            ]
          },
          "metadata": {},
          "execution_count": 28
        }
      ]
    },
    {
      "cell_type": "code",
      "metadata": {
        "id": "i_BiAjvwv5h6"
      },
      "source": [
        "import numpy as np"
      ],
      "execution_count": null,
      "outputs": []
    },
    {
      "cell_type": "code",
      "metadata": {
        "id": "kc3Oxrht7-qo"
      },
      "source": [
        "# 가설 4번\n",
        "data['class'].value_counts()"
      ],
      "execution_count": null,
      "outputs": []
    },
    {
      "cell_type": "code",
      "metadata": {
        "id": "NE91yDmb9fv7",
        "colab": {
          "base_uri": "https://localhost:8080/",
          "height": 294
        },
        "outputId": "7a0444d7-7d3c-4fce-ebe4-33c56067fbb1"
      },
      "source": [
        "# 가설 4번 : 소속별 달성률 평균\n",
        "cg = data.groupby('class')['participation'].count()\n",
        "class_group = pd.DataFrame(cg)\n",
        "class_group"
      ],
      "execution_count": null,
      "outputs": [
        {
          "output_type": "execute_result",
          "data": {
            "text/html": [
              "<div>\n",
              "<style scoped>\n",
              "    .dataframe tbody tr th:only-of-type {\n",
              "        vertical-align: middle;\n",
              "    }\n",
              "\n",
              "    .dataframe tbody tr th {\n",
              "        vertical-align: top;\n",
              "    }\n",
              "\n",
              "    .dataframe thead th {\n",
              "        text-align: right;\n",
              "    }\n",
              "</style>\n",
              "<table border=\"1\" class=\"dataframe\">\n",
              "  <thead>\n",
              "    <tr style=\"text-align: right;\">\n",
              "      <th></th>\n",
              "      <th>participation</th>\n",
              "    </tr>\n",
              "    <tr>\n",
              "      <th>class</th>\n",
              "      <th></th>\n",
              "    </tr>\n",
              "  </thead>\n",
              "  <tbody>\n",
              "    <tr>\n",
              "      <th>고등학생</th>\n",
              "      <td>24</td>\n",
              "    </tr>\n",
              "    <tr>\n",
              "      <th>기업</th>\n",
              "      <td>20</td>\n",
              "    </tr>\n",
              "    <tr>\n",
              "      <th>기타</th>\n",
              "      <td>19</td>\n",
              "    </tr>\n",
              "    <tr>\n",
              "      <th>대학생</th>\n",
              "      <td>16</td>\n",
              "    </tr>\n",
              "    <tr>\n",
              "      <th>사회단체</th>\n",
              "      <td>10</td>\n",
              "    </tr>\n",
              "    <tr>\n",
              "      <th>예술인</th>\n",
              "      <td>40</td>\n",
              "    </tr>\n",
              "    <tr>\n",
              "      <th>중학생</th>\n",
              "      <td>8</td>\n",
              "    </tr>\n",
              "  </tbody>\n",
              "</table>\n",
              "</div>"
            ],
            "text/plain": [
              "       participation\n",
              "class               \n",
              "고등학생              24\n",
              "기업                20\n",
              "기타                19\n",
              "대학생               16\n",
              "사회단체              10\n",
              "예술인               40\n",
              "중학생                8"
            ]
          },
          "metadata": {},
          "execution_count": 62
        }
      ]
    },
    {
      "cell_type": "code",
      "metadata": {
        "id": "kY-9iulP9wGC"
      },
      "source": [
        "class_group.value_counts().sort_index().plot(kind='bar')"
      ],
      "execution_count": null,
      "outputs": []
    },
    {
      "cell_type": "code",
      "metadata": {
        "id": "JTiK9Bes-sEi"
      },
      "source": [
        "plt.hist(class_group)\n",
        "plt.show()"
      ],
      "execution_count": null,
      "outputs": []
    },
    {
      "cell_type": "markdown",
      "metadata": {
        "id": "q8IbmxSCibCH"
      },
      "source": [
        "## 가설 3번 아노바 분석"
      ]
    },
    {
      "cell_type": "code",
      "metadata": {
        "id": "d4ZOt9Y4_lIC"
      },
      "source": [
        "# 가설4번 아노바분석 시도 - 참여횟수별(3개) 달성률 비교\n",
        "from statsmodels.formula.api import ols\n",
        "from statsmodels.stats.anova import anova_lm\n",
        "\n",
        "model = ols('rate ~ C(participation)', ng).fit()\n",
        "anova_lm(model)"
      ],
      "execution_count": null,
      "outputs": []
    },
    {
      "cell_type": "code",
      "metadata": {
        "id": "6v5VztOKBwiF"
      },
      "source": [
        "# 참여횟수(1,2,3)별 달성률 아노바분석\n",
        "\n",
        "from statsmodels.formula.api import ols\n",
        "from statsmodels.stats.anova import anova_lm\n",
        "\n",
        "one = data.participation == '1'\n",
        "two = data.participation == '2'\n",
        "thr = data.participation == '3'\n",
        "\n",
        "model = ols('rate ~ C(one) * C(two) * C(thr)', ng).fit()\n",
        "anova_lm(model)"
      ],
      "execution_count": null,
      "outputs": []
    },
    {
      "cell_type": "markdown",
      "metadata": {
        "id": "Pn25H9_qifGf"
      },
      "source": [
        "## 참여횟수 vs 달성률 아노바 분석 (재)"
      ]
    },
    {
      "cell_type": "code",
      "metadata": {
        "colab": {
          "base_uri": "https://localhost:8080/",
          "height": 80
        },
        "id": "84Q44nCSiilB",
        "outputId": "26904aec-62f3-4f5e-dfe5-b1c4c574df49"
      },
      "source": [
        "# 등분산 -> 0.05보다 작으므로 귀무가설 기각. 등분산 아님. 아노바 보기.\n",
        "pg.homoscedasticity(dv='rate_sp', group='participation', data=data)"
      ],
      "execution_count": null,
      "outputs": [
        {
          "output_type": "execute_result",
          "data": {
            "text/html": [
              "<div>\n",
              "<style scoped>\n",
              "    .dataframe tbody tr th:only-of-type {\n",
              "        vertical-align: middle;\n",
              "    }\n",
              "\n",
              "    .dataframe tbody tr th {\n",
              "        vertical-align: top;\n",
              "    }\n",
              "\n",
              "    .dataframe thead th {\n",
              "        text-align: right;\n",
              "    }\n",
              "</style>\n",
              "<table border=\"1\" class=\"dataframe\">\n",
              "  <thead>\n",
              "    <tr style=\"text-align: right;\">\n",
              "      <th></th>\n",
              "      <th>W</th>\n",
              "      <th>pval</th>\n",
              "      <th>equal_var</th>\n",
              "    </tr>\n",
              "  </thead>\n",
              "  <tbody>\n",
              "    <tr>\n",
              "      <th>levene</th>\n",
              "      <td>3.826387</td>\n",
              "      <td>0.024207</td>\n",
              "      <td>False</td>\n",
              "    </tr>\n",
              "  </tbody>\n",
              "</table>\n",
              "</div>"
            ],
            "text/plain": [
              "               W      pval  equal_var\n",
              "levene  3.826387  0.024207      False"
            ]
          },
          "metadata": {},
          "execution_count": 26
        }
      ]
    },
    {
      "cell_type": "code",
      "metadata": {
        "colab": {
          "base_uri": "https://localhost:8080/",
          "height": 110
        },
        "id": "6SfXcfbyovOU",
        "outputId": "9214ccaa-3b94-4232-bb60-4db14041bd2b"
      },
      "source": [
        "# 아노바 -> 0.05보다 작으므로 참여횟수에 따라 달성률에 유의한 차이가 있다.\n",
        "pg.anova(dv='rate_sp', between='participation', data=data, detailed=True)"
      ],
      "execution_count": null,
      "outputs": [
        {
          "output_type": "execute_result",
          "data": {
            "text/html": [
              "<div>\n",
              "<style scoped>\n",
              "    .dataframe tbody tr th:only-of-type {\n",
              "        vertical-align: middle;\n",
              "    }\n",
              "\n",
              "    .dataframe tbody tr th {\n",
              "        vertical-align: top;\n",
              "    }\n",
              "\n",
              "    .dataframe thead th {\n",
              "        text-align: right;\n",
              "    }\n",
              "</style>\n",
              "<table border=\"1\" class=\"dataframe\">\n",
              "  <thead>\n",
              "    <tr style=\"text-align: right;\">\n",
              "      <th></th>\n",
              "      <th>Source</th>\n",
              "      <th>SS</th>\n",
              "      <th>DF</th>\n",
              "      <th>MS</th>\n",
              "      <th>F</th>\n",
              "      <th>p-unc</th>\n",
              "      <th>np2</th>\n",
              "    </tr>\n",
              "  </thead>\n",
              "  <tbody>\n",
              "    <tr>\n",
              "      <th>0</th>\n",
              "      <td>participation</td>\n",
              "      <td>1.273555e+06</td>\n",
              "      <td>2</td>\n",
              "      <td>636777.517110</td>\n",
              "      <td>4.967356</td>\n",
              "      <td>0.008297</td>\n",
              "      <td>0.069022</td>\n",
              "    </tr>\n",
              "    <tr>\n",
              "      <th>1</th>\n",
              "      <td>Within</td>\n",
              "      <td>1.717779e+07</td>\n",
              "      <td>134</td>\n",
              "      <td>128192.453988</td>\n",
              "      <td>NaN</td>\n",
              "      <td>NaN</td>\n",
              "      <td>NaN</td>\n",
              "    </tr>\n",
              "  </tbody>\n",
              "</table>\n",
              "</div>"
            ],
            "text/plain": [
              "          Source            SS   DF  ...         F     p-unc       np2\n",
              "0  participation  1.273555e+06    2  ...  4.967356  0.008297  0.069022\n",
              "1         Within  1.717779e+07  134  ...       NaN       NaN       NaN\n",
              "\n",
              "[2 rows x 7 columns]"
            ]
          },
          "metadata": {},
          "execution_count": 28
        }
      ]
    },
    {
      "cell_type": "code",
      "metadata": {
        "colab": {
          "base_uri": "https://localhost:8080/",
          "height": 141
        },
        "id": "Kv-CPLXqo78E",
        "outputId": "5ed61b6e-bd57-4d24-c2f7-448987a6f3c7"
      },
      "source": [
        "# 등분산이 아니므로 게임스호웰 -> 모두 p-value가 유의하지 않으므로 차이가 통계적으로 유의미하지 않다.\n",
        "pg.pairwise_gameshowell(dv='rate_sp', between='participation', data=data)"
      ],
      "execution_count": null,
      "outputs": [
        {
          "output_type": "execute_result",
          "data": {
            "text/html": [
              "<div>\n",
              "<style scoped>\n",
              "    .dataframe tbody tr th:only-of-type {\n",
              "        vertical-align: middle;\n",
              "    }\n",
              "\n",
              "    .dataframe tbody tr th {\n",
              "        vertical-align: top;\n",
              "    }\n",
              "\n",
              "    .dataframe thead th {\n",
              "        text-align: right;\n",
              "    }\n",
              "</style>\n",
              "<table border=\"1\" class=\"dataframe\">\n",
              "  <thead>\n",
              "    <tr style=\"text-align: right;\">\n",
              "      <th></th>\n",
              "      <th>A</th>\n",
              "      <th>B</th>\n",
              "      <th>mean(A)</th>\n",
              "      <th>mean(B)</th>\n",
              "      <th>diff</th>\n",
              "      <th>se</th>\n",
              "      <th>T</th>\n",
              "      <th>df</th>\n",
              "      <th>pval</th>\n",
              "      <th>hedges</th>\n",
              "    </tr>\n",
              "  </thead>\n",
              "  <tbody>\n",
              "    <tr>\n",
              "      <th>0</th>\n",
              "      <td>1</td>\n",
              "      <td>2</td>\n",
              "      <td>213.649485</td>\n",
              "      <td>205.304348</td>\n",
              "      <td>8.345137</td>\n",
              "      <td>63.270432</td>\n",
              "      <td>0.131896</td>\n",
              "      <td>38.238323</td>\n",
              "      <td>0.900000</td>\n",
              "      <td>0.030395</td>\n",
              "    </tr>\n",
              "    <tr>\n",
              "      <th>1</th>\n",
              "      <td>1</td>\n",
              "      <td>3</td>\n",
              "      <td>213.649485</td>\n",
              "      <td>504.352941</td>\n",
              "      <td>-290.703457</td>\n",
              "      <td>155.474313</td>\n",
              "      <td>-1.869784</td>\n",
              "      <td>17.412931</td>\n",
              "      <td>0.176986</td>\n",
              "      <td>-0.488325</td>\n",
              "    </tr>\n",
              "    <tr>\n",
              "      <th>2</th>\n",
              "      <td>2</td>\n",
              "      <td>3</td>\n",
              "      <td>205.304348</td>\n",
              "      <td>504.352941</td>\n",
              "      <td>-299.048593</td>\n",
              "      <td>161.756769</td>\n",
              "      <td>-1.848755</td>\n",
              "      <td>20.163493</td>\n",
              "      <td>0.179458</td>\n",
              "      <td>-0.579570</td>\n",
              "    </tr>\n",
              "  </tbody>\n",
              "</table>\n",
              "</div>"
            ],
            "text/plain": [
              "   A  B     mean(A)     mean(B)  ...         T         df      pval    hedges\n",
              "0  1  2  213.649485  205.304348  ...  0.131896  38.238323  0.900000  0.030395\n",
              "1  1  3  213.649485  504.352941  ... -1.869784  17.412931  0.176986 -0.488325\n",
              "2  2  3  205.304348  504.352941  ... -1.848755  20.163493  0.179458 -0.579570\n",
              "\n",
              "[3 rows x 10 columns]"
            ]
          },
          "metadata": {},
          "execution_count": 29
        }
      ]
    },
    {
      "cell_type": "markdown",
      "metadata": {
        "id": "zblkap2PKJlX"
      },
      "source": [
        "# 소속집단 vs 참여횟수 아노바"
      ]
    },
    {
      "cell_type": "code",
      "metadata": {
        "colab": {
          "base_uri": "https://localhost:8080/",
          "height": 80
        },
        "id": "ki5cVi8CKNiq",
        "outputId": "bcc2f0fb-8e46-478c-f15a-9aa15298dcb9"
      },
      "source": [
        "# 등분산 -> 0.05보다 작으므로 귀무가설 기각. 등분산 아님. 아노바 보기.\n",
        "pg.homoscedasticity(dv='participation', group='class', data=data)"
      ],
      "execution_count": null,
      "outputs": [
        {
          "output_type": "execute_result",
          "data": {
            "text/html": [
              "<div>\n",
              "<style scoped>\n",
              "    .dataframe tbody tr th:only-of-type {\n",
              "        vertical-align: middle;\n",
              "    }\n",
              "\n",
              "    .dataframe tbody tr th {\n",
              "        vertical-align: top;\n",
              "    }\n",
              "\n",
              "    .dataframe thead th {\n",
              "        text-align: right;\n",
              "    }\n",
              "</style>\n",
              "<table border=\"1\" class=\"dataframe\">\n",
              "  <thead>\n",
              "    <tr style=\"text-align: right;\">\n",
              "      <th></th>\n",
              "      <th>W</th>\n",
              "      <th>pval</th>\n",
              "      <th>equal_var</th>\n",
              "    </tr>\n",
              "  </thead>\n",
              "  <tbody>\n",
              "    <tr>\n",
              "      <th>levene</th>\n",
              "      <td>4.499824</td>\n",
              "      <td>0.000356</td>\n",
              "      <td>False</td>\n",
              "    </tr>\n",
              "  </tbody>\n",
              "</table>\n",
              "</div>"
            ],
            "text/plain": [
              "               W      pval  equal_var\n",
              "levene  4.499824  0.000356      False"
            ]
          },
          "metadata": {},
          "execution_count": 71
        }
      ]
    },
    {
      "cell_type": "code",
      "metadata": {
        "colab": {
          "base_uri": "https://localhost:8080/",
          "height": 110
        },
        "id": "Z6_PFxN8KO3i",
        "outputId": "01106e20-90b4-4f73-91e1-a898a7ef8ad1"
      },
      "source": [
        "# 아노바 -> 0.05보다 작으므로 소속집단에 따라 참여횟수에 유의한 차이가 있다.\n",
        "pg.anova(dv='participation', between='class', data=data, detailed=True)"
      ],
      "execution_count": null,
      "outputs": [
        {
          "output_type": "execute_result",
          "data": {
            "text/html": [
              "<div>\n",
              "<style scoped>\n",
              "    .dataframe tbody tr th:only-of-type {\n",
              "        vertical-align: middle;\n",
              "    }\n",
              "\n",
              "    .dataframe tbody tr th {\n",
              "        vertical-align: top;\n",
              "    }\n",
              "\n",
              "    .dataframe thead th {\n",
              "        text-align: right;\n",
              "    }\n",
              "</style>\n",
              "<table border=\"1\" class=\"dataframe\">\n",
              "  <thead>\n",
              "    <tr style=\"text-align: right;\">\n",
              "      <th></th>\n",
              "      <th>Source</th>\n",
              "      <th>SS</th>\n",
              "      <th>DF</th>\n",
              "      <th>MS</th>\n",
              "      <th>F</th>\n",
              "      <th>p-unc</th>\n",
              "      <th>np2</th>\n",
              "    </tr>\n",
              "  </thead>\n",
              "  <tbody>\n",
              "    <tr>\n",
              "      <th>0</th>\n",
              "      <td>class</td>\n",
              "      <td>10.063619</td>\n",
              "      <td>6</td>\n",
              "      <td>1.677270</td>\n",
              "      <td>3.810574</td>\n",
              "      <td>0.001568</td>\n",
              "      <td>0.149568</td>\n",
              "    </tr>\n",
              "    <tr>\n",
              "      <th>1</th>\n",
              "      <td>Within</td>\n",
              "      <td>57.221053</td>\n",
              "      <td>130</td>\n",
              "      <td>0.440162</td>\n",
              "      <td>NaN</td>\n",
              "      <td>NaN</td>\n",
              "      <td>NaN</td>\n",
              "    </tr>\n",
              "  </tbody>\n",
              "</table>\n",
              "</div>"
            ],
            "text/plain": [
              "   Source         SS   DF        MS         F     p-unc       np2\n",
              "0   class  10.063619    6  1.677270  3.810574  0.001568  0.149568\n",
              "1  Within  57.221053  130  0.440162       NaN       NaN       NaN"
            ]
          },
          "metadata": {},
          "execution_count": 72
        }
      ]
    },
    {
      "cell_type": "code",
      "metadata": {
        "colab": {
          "base_uri": "https://localhost:8080/",
          "height": 693
        },
        "id": "vtUCs7s8KTZy",
        "outputId": "208bb880-2b9d-43ad-a248-49697453a83b"
      },
      "source": [
        "# 등분산이 아니므로 게임스호웰 -> 고등학생vs기업\n",
        "pg.pairwise_gameshowell(dv='participation', between='class', data=data)"
      ],
      "execution_count": null,
      "outputs": [
        {
          "output_type": "execute_result",
          "data": {
            "text/html": [
              "<div>\n",
              "<style scoped>\n",
              "    .dataframe tbody tr th:only-of-type {\n",
              "        vertical-align: middle;\n",
              "    }\n",
              "\n",
              "    .dataframe tbody tr th {\n",
              "        vertical-align: top;\n",
              "    }\n",
              "\n",
              "    .dataframe thead th {\n",
              "        text-align: right;\n",
              "    }\n",
              "</style>\n",
              "<table border=\"1\" class=\"dataframe\">\n",
              "  <thead>\n",
              "    <tr style=\"text-align: right;\">\n",
              "      <th></th>\n",
              "      <th>A</th>\n",
              "      <th>B</th>\n",
              "      <th>mean(A)</th>\n",
              "      <th>mean(B)</th>\n",
              "      <th>diff</th>\n",
              "      <th>se</th>\n",
              "      <th>T</th>\n",
              "      <th>df</th>\n",
              "      <th>pval</th>\n",
              "      <th>hedges</th>\n",
              "    </tr>\n",
              "  </thead>\n",
              "  <tbody>\n",
              "    <tr>\n",
              "      <th>0</th>\n",
              "      <td>고등학생</td>\n",
              "      <td>기업</td>\n",
              "      <td>1.125000</td>\n",
              "      <td>1.850000</td>\n",
              "      <td>-0.725000</td>\n",
              "      <td>0.207473</td>\n",
              "      <td>-3.494436</td>\n",
              "      <td>23.710431</td>\n",
              "      <td>0.027009</td>\n",
              "      <td>-1.038987</td>\n",
              "    </tr>\n",
              "    <tr>\n",
              "      <th>1</th>\n",
              "      <td>고등학생</td>\n",
              "      <td>기타</td>\n",
              "      <td>1.125000</td>\n",
              "      <td>1.631579</td>\n",
              "      <td>-0.506579</td>\n",
              "      <td>0.216615</td>\n",
              "      <td>-2.338609</td>\n",
              "      <td>22.069226</td>\n",
              "      <td>0.270452</td>\n",
              "      <td>-0.704923</td>\n",
              "    </tr>\n",
              "    <tr>\n",
              "      <th>2</th>\n",
              "      <td>고등학생</td>\n",
              "      <td>대학생</td>\n",
              "      <td>1.125000</td>\n",
              "      <td>1.125000</td>\n",
              "      <td>0.000000</td>\n",
              "      <td>0.142760</td>\n",
              "      <td>0.000000</td>\n",
              "      <td>24.066036</td>\n",
              "      <td>0.900000</td>\n",
              "      <td>0.000000</td>\n",
              "    </tr>\n",
              "    <tr>\n",
              "      <th>3</th>\n",
              "      <td>고등학생</td>\n",
              "      <td>사회단체</td>\n",
              "      <td>1.125000</td>\n",
              "      <td>1.800000</td>\n",
              "      <td>-0.675000</td>\n",
              "      <td>0.298663</td>\n",
              "      <td>-2.260069</td>\n",
              "      <td>10.029754</td>\n",
              "      <td>0.345620</td>\n",
              "      <td>-0.830565</td>\n",
              "    </tr>\n",
              "    <tr>\n",
              "      <th>4</th>\n",
              "      <td>고등학생</td>\n",
              "      <td>예술인</td>\n",
              "      <td>1.125000</td>\n",
              "      <td>1.325000</td>\n",
              "      <td>-0.200000</td>\n",
              "      <td>0.113774</td>\n",
              "      <td>-1.757870</td>\n",
              "      <td>61.996561</td>\n",
              "      <td>0.570239</td>\n",
              "      <td>-0.448367</td>\n",
              "    </tr>\n",
              "    <tr>\n",
              "      <th>5</th>\n",
              "      <td>고등학생</td>\n",
              "      <td>중학생</td>\n",
              "      <td>1.125000</td>\n",
              "      <td>1.250000</td>\n",
              "      <td>-0.125000</td>\n",
              "      <td>0.177598</td>\n",
              "      <td>-0.703836</td>\n",
              "      <td>9.613917</td>\n",
              "      <td>0.900000</td>\n",
              "      <td>-0.280096</td>\n",
              "    </tr>\n",
              "    <tr>\n",
              "      <th>6</th>\n",
              "      <td>기업</td>\n",
              "      <td>기타</td>\n",
              "      <td>1.850000</td>\n",
              "      <td>1.631579</td>\n",
              "      <td>0.218421</td>\n",
              "      <td>0.283648</td>\n",
              "      <td>0.770042</td>\n",
              "      <td>36.791684</td>\n",
              "      <td>0.900000</td>\n",
              "      <td>0.241657</td>\n",
              "    </tr>\n",
              "    <tr>\n",
              "      <th>7</th>\n",
              "      <td>기업</td>\n",
              "      <td>대학생</td>\n",
              "      <td>1.850000</td>\n",
              "      <td>1.125000</td>\n",
              "      <td>0.725000</td>\n",
              "      <td>0.232195</td>\n",
              "      <td>3.122377</td>\n",
              "      <td>31.108967</td>\n",
              "      <td>0.053147</td>\n",
              "      <td>1.024004</td>\n",
              "    </tr>\n",
              "    <tr>\n",
              "      <th>8</th>\n",
              "      <td>기업</td>\n",
              "      <td>사회단체</td>\n",
              "      <td>1.850000</td>\n",
              "      <td>1.800000</td>\n",
              "      <td>0.050000</td>\n",
              "      <td>0.350334</td>\n",
              "      <td>0.142721</td>\n",
              "      <td>17.324844</td>\n",
              "      <td>0.900000</td>\n",
              "      <td>0.053782</td>\n",
              "    </tr>\n",
              "    <tr>\n",
              "      <th>9</th>\n",
              "      <td>기업</td>\n",
              "      <td>예술인</td>\n",
              "      <td>1.850000</td>\n",
              "      <td>1.325000</td>\n",
              "      <td>0.525000</td>\n",
              "      <td>0.215589</td>\n",
              "      <td>2.435190</td>\n",
              "      <td>27.386004</td>\n",
              "      <td>0.222624</td>\n",
              "      <td>0.658243</td>\n",
              "    </tr>\n",
              "    <tr>\n",
              "      <th>10</th>\n",
              "      <td>기업</td>\n",
              "      <td>중학생</td>\n",
              "      <td>1.850000</td>\n",
              "      <td>1.250000</td>\n",
              "      <td>0.600000</td>\n",
              "      <td>0.255098</td>\n",
              "      <td>2.352034</td>\n",
              "      <td>23.571255</td>\n",
              "      <td>0.262063</td>\n",
              "      <td>0.955268</td>\n",
              "    </tr>\n",
              "    <tr>\n",
              "      <th>11</th>\n",
              "      <td>기타</td>\n",
              "      <td>대학생</td>\n",
              "      <td>1.631579</td>\n",
              "      <td>1.125000</td>\n",
              "      <td>0.506579</td>\n",
              "      <td>0.240399</td>\n",
              "      <td>2.107240</td>\n",
              "      <td>29.028404</td>\n",
              "      <td>0.376291</td>\n",
              "      <td>0.698634</td>\n",
              "    </tr>\n",
              "    <tr>\n",
              "      <th>12</th>\n",
              "      <td>기타</td>\n",
              "      <td>사회단체</td>\n",
              "      <td>1.631579</td>\n",
              "      <td>1.800000</td>\n",
              "      <td>-0.168421</td>\n",
              "      <td>0.355825</td>\n",
              "      <td>-0.473326</td>\n",
              "      <td>17.989500</td>\n",
              "      <td>0.900000</td>\n",
              "      <td>-0.179735</td>\n",
              "    </tr>\n",
              "    <tr>\n",
              "      <th>13</th>\n",
              "      <td>기타</td>\n",
              "      <td>예술인</td>\n",
              "      <td>1.631579</td>\n",
              "      <td>1.325000</td>\n",
              "      <td>0.306579</td>\n",
              "      <td>0.224401</td>\n",
              "      <td>1.366209</td>\n",
              "      <td>25.231144</td>\n",
              "      <td>0.790176</td>\n",
              "      <td>0.375628</td>\n",
              "    </tr>\n",
              "    <tr>\n",
              "      <th>14</th>\n",
              "      <td>기타</td>\n",
              "      <td>중학생</td>\n",
              "      <td>1.631579</td>\n",
              "      <td>1.250000</td>\n",
              "      <td>0.381579</td>\n",
              "      <td>0.262588</td>\n",
              "      <td>1.453146</td>\n",
              "      <td>23.621508</td>\n",
              "      <td>0.742506</td>\n",
              "      <td>0.593889</td>\n",
              "    </tr>\n",
              "    <tr>\n",
              "      <th>15</th>\n",
              "      <td>대학생</td>\n",
              "      <td>사회단체</td>\n",
              "      <td>1.125000</td>\n",
              "      <td>1.800000</td>\n",
              "      <td>-0.675000</td>\n",
              "      <td>0.316338</td>\n",
              "      <td>-2.133797</td>\n",
              "      <td>12.384324</td>\n",
              "      <td>0.392798</td>\n",
              "      <td>-0.832998</td>\n",
              "    </tr>\n",
              "    <tr>\n",
              "      <th>16</th>\n",
              "      <td>대학생</td>\n",
              "      <td>예술인</td>\n",
              "      <td>1.125000</td>\n",
              "      <td>1.325000</td>\n",
              "      <td>-0.200000</td>\n",
              "      <td>0.154318</td>\n",
              "      <td>-1.296024</td>\n",
              "      <td>31.513958</td>\n",
              "      <td>0.830505</td>\n",
              "      <td>-0.378020</td>\n",
              "    </tr>\n",
              "    <tr>\n",
              "      <th>17</th>\n",
              "      <td>대학생</td>\n",
              "      <td>중학생</td>\n",
              "      <td>1.125000</td>\n",
              "      <td>1.250000</td>\n",
              "      <td>-0.125000</td>\n",
              "      <td>0.205939</td>\n",
              "      <td>-0.606977</td>\n",
              "      <td>15.143827</td>\n",
              "      <td>0.900000</td>\n",
              "      <td>-0.253766</td>\n",
              "    </tr>\n",
              "    <tr>\n",
              "      <th>18</th>\n",
              "      <td>사회단체</td>\n",
              "      <td>예술인</td>\n",
              "      <td>1.800000</td>\n",
              "      <td>1.325000</td>\n",
              "      <td>0.475000</td>\n",
              "      <td>0.304358</td>\n",
              "      <td>1.560664</td>\n",
              "      <td>10.806758</td>\n",
              "      <td>0.688714</td>\n",
              "      <td>0.543111</td>\n",
              "    </tr>\n",
              "    <tr>\n",
              "      <th>19</th>\n",
              "      <td>사회단체</td>\n",
              "      <td>중학생</td>\n",
              "      <td>1.800000</td>\n",
              "      <td>1.250000</td>\n",
              "      <td>0.550000</td>\n",
              "      <td>0.333512</td>\n",
              "      <td>1.649117</td>\n",
              "      <td>13.826493</td>\n",
              "      <td>0.640789</td>\n",
              "      <td>0.744995</td>\n",
              "    </tr>\n",
              "    <tr>\n",
              "      <th>20</th>\n",
              "      <td>예술인</td>\n",
              "      <td>중학생</td>\n",
              "      <td>1.325000</td>\n",
              "      <td>1.250000</td>\n",
              "      <td>0.075000</td>\n",
              "      <td>0.187016</td>\n",
              "      <td>0.401036</td>\n",
              "      <td>11.737538</td>\n",
              "      <td>0.900000</td>\n",
              "      <td>0.152774</td>\n",
              "    </tr>\n",
              "  </tbody>\n",
              "</table>\n",
              "</div>"
            ],
            "text/plain": [
              "       A     B   mean(A)   mean(B)  ...         T         df      pval    hedges\n",
              "0   고등학생    기업  1.125000  1.850000  ... -3.494436  23.710431  0.027009 -1.038987\n",
              "1   고등학생    기타  1.125000  1.631579  ... -2.338609  22.069226  0.270452 -0.704923\n",
              "2   고등학생   대학생  1.125000  1.125000  ...  0.000000  24.066036  0.900000  0.000000\n",
              "3   고등학생  사회단체  1.125000  1.800000  ... -2.260069  10.029754  0.345620 -0.830565\n",
              "4   고등학생   예술인  1.125000  1.325000  ... -1.757870  61.996561  0.570239 -0.448367\n",
              "5   고등학생   중학생  1.125000  1.250000  ... -0.703836   9.613917  0.900000 -0.280096\n",
              "6     기업    기타  1.850000  1.631579  ...  0.770042  36.791684  0.900000  0.241657\n",
              "7     기업   대학생  1.850000  1.125000  ...  3.122377  31.108967  0.053147  1.024004\n",
              "8     기업  사회단체  1.850000  1.800000  ...  0.142721  17.324844  0.900000  0.053782\n",
              "9     기업   예술인  1.850000  1.325000  ...  2.435190  27.386004  0.222624  0.658243\n",
              "10    기업   중학생  1.850000  1.250000  ...  2.352034  23.571255  0.262063  0.955268\n",
              "11    기타   대학생  1.631579  1.125000  ...  2.107240  29.028404  0.376291  0.698634\n",
              "12    기타  사회단체  1.631579  1.800000  ... -0.473326  17.989500  0.900000 -0.179735\n",
              "13    기타   예술인  1.631579  1.325000  ...  1.366209  25.231144  0.790176  0.375628\n",
              "14    기타   중학생  1.631579  1.250000  ...  1.453146  23.621508  0.742506  0.593889\n",
              "15   대학생  사회단체  1.125000  1.800000  ... -2.133797  12.384324  0.392798 -0.832998\n",
              "16   대학생   예술인  1.125000  1.325000  ... -1.296024  31.513958  0.830505 -0.378020\n",
              "17   대학생   중학생  1.125000  1.250000  ... -0.606977  15.143827  0.900000 -0.253766\n",
              "18  사회단체   예술인  1.800000  1.325000  ...  1.560664  10.806758  0.688714  0.543111\n",
              "19  사회단체   중학생  1.800000  1.250000  ...  1.649117  13.826493  0.640789  0.744995\n",
              "20   예술인   중학생  1.325000  1.250000  ...  0.401036  11.737538  0.900000  0.152774\n",
              "\n",
              "[21 rows x 10 columns]"
            ]
          },
          "metadata": {},
          "execution_count": 73
        }
      ]
    },
    {
      "cell_type": "markdown",
      "metadata": {
        "id": "ExIdRpesRqyd"
      },
      "source": [
        "# 소속집단 vs 달성률 아노바"
      ]
    },
    {
      "cell_type": "code",
      "metadata": {
        "colab": {
          "base_uri": "https://localhost:8080/"
        },
        "id": "-78le-sMSIt-",
        "outputId": "fbbe5e60-dc86-4696-bb58-2b8c3dd0b2dd"
      },
      "source": [
        "data['class'].unique()"
      ],
      "execution_count": null,
      "outputs": [
        {
          "output_type": "execute_result",
          "data": {
            "text/plain": [
              "array(['기업', '예술인', '대학생', '사회단체', '고등학생', '기타', '중학생'], dtype=object)"
            ]
          },
          "metadata": {},
          "execution_count": 10
        }
      ]
    },
    {
      "cell_type": "markdown",
      "metadata": {
        "id": "SmFzy7a4S6TK"
      },
      "source": [
        ""
      ]
    },
    {
      "cell_type": "code",
      "metadata": {
        "id": "dE7Bt9P9qbD9",
        "colab": {
          "base_uri": "https://localhost:8080/",
          "height": 80
        },
        "outputId": "67ad6142-8670-4807-8767-81604d3f40fc"
      },
      "source": [
        "# 등분산 -> 0.05보다 작으므로 귀무가설 기각. 등분산 아님. 아노바 보기.\n",
        "pg.homoscedasticity(dv='rate_sp', group='class', data=data)"
      ],
      "execution_count": null,
      "outputs": [
        {
          "output_type": "execute_result",
          "data": {
            "text/html": [
              "<div>\n",
              "<style scoped>\n",
              "    .dataframe tbody tr th:only-of-type {\n",
              "        vertical-align: middle;\n",
              "    }\n",
              "\n",
              "    .dataframe tbody tr th {\n",
              "        vertical-align: top;\n",
              "    }\n",
              "\n",
              "    .dataframe thead th {\n",
              "        text-align: right;\n",
              "    }\n",
              "</style>\n",
              "<table border=\"1\" class=\"dataframe\">\n",
              "  <thead>\n",
              "    <tr style=\"text-align: right;\">\n",
              "      <th></th>\n",
              "      <th>W</th>\n",
              "      <th>pval</th>\n",
              "      <th>equal_var</th>\n",
              "    </tr>\n",
              "  </thead>\n",
              "  <tbody>\n",
              "    <tr>\n",
              "      <th>levene</th>\n",
              "      <td>3.147879</td>\n",
              "      <td>0.006482</td>\n",
              "      <td>False</td>\n",
              "    </tr>\n",
              "  </tbody>\n",
              "</table>\n",
              "</div>"
            ],
            "text/plain": [
              "               W      pval  equal_var\n",
              "levene  3.147879  0.006482      False"
            ]
          },
          "metadata": {},
          "execution_count": 15
        }
      ]
    },
    {
      "cell_type": "code",
      "metadata": {
        "colab": {
          "base_uri": "https://localhost:8080/",
          "height": 110
        },
        "id": "Js94Ak_uTxE3",
        "outputId": "1a5c3d2b-59a2-4f11-ecd9-b2978623d1fe"
      },
      "source": [
        "# 아노바 -> 0.05보다 작으므로 소속집단에 따라 달성률에 유의한 차이가 있다.\n",
        "pg.anova(dv='rate_sp', between='class', data=data, detailed=True)"
      ],
      "execution_count": null,
      "outputs": [
        {
          "output_type": "execute_result",
          "data": {
            "text/html": [
              "<div>\n",
              "<style scoped>\n",
              "    .dataframe tbody tr th:only-of-type {\n",
              "        vertical-align: middle;\n",
              "    }\n",
              "\n",
              "    .dataframe tbody tr th {\n",
              "        vertical-align: top;\n",
              "    }\n",
              "\n",
              "    .dataframe thead th {\n",
              "        text-align: right;\n",
              "    }\n",
              "</style>\n",
              "<table border=\"1\" class=\"dataframe\">\n",
              "  <thead>\n",
              "    <tr style=\"text-align: right;\">\n",
              "      <th></th>\n",
              "      <th>Source</th>\n",
              "      <th>SS</th>\n",
              "      <th>DF</th>\n",
              "      <th>MS</th>\n",
              "      <th>F</th>\n",
              "      <th>p-unc</th>\n",
              "      <th>np2</th>\n",
              "    </tr>\n",
              "  </thead>\n",
              "  <tbody>\n",
              "    <tr>\n",
              "      <th>0</th>\n",
              "      <td>class</td>\n",
              "      <td>3.226412e+06</td>\n",
              "      <td>6</td>\n",
              "      <td>537735.343380</td>\n",
              "      <td>4.591521</td>\n",
              "      <td>0.000292</td>\n",
              "      <td>0.174861</td>\n",
              "    </tr>\n",
              "    <tr>\n",
              "      <th>1</th>\n",
              "      <td>Within</td>\n",
              "      <td>1.522493e+07</td>\n",
              "      <td>130</td>\n",
              "      <td>117114.860064</td>\n",
              "      <td>NaN</td>\n",
              "      <td>NaN</td>\n",
              "      <td>NaN</td>\n",
              "    </tr>\n",
              "  </tbody>\n",
              "</table>\n",
              "</div>"
            ],
            "text/plain": [
              "   Source            SS   DF             MS         F     p-unc       np2\n",
              "0   class  3.226412e+06    6  537735.343380  4.591521  0.000292  0.174861\n",
              "1  Within  1.522493e+07  130  117114.860064       NaN       NaN       NaN"
            ]
          },
          "metadata": {},
          "execution_count": 17
        }
      ]
    },
    {
      "cell_type": "code",
      "metadata": {
        "colab": {
          "base_uri": "https://localhost:8080/",
          "height": 693
        },
        "id": "eyKz5juAUEGd",
        "outputId": "e1acfd1e-2ed6-4b1c-f406-9b0f85419e3f"
      },
      "source": [
        "# 등분산이 아니므로 게임스호웰 -> 고등학생vs대학생\n",
        "pg.pairwise_gameshowell(dv='rate_sp', between='class', data=data)"
      ],
      "execution_count": null,
      "outputs": [
        {
          "output_type": "execute_result",
          "data": {
            "text/html": [
              "<div>\n",
              "<style scoped>\n",
              "    .dataframe tbody tr th:only-of-type {\n",
              "        vertical-align: middle;\n",
              "    }\n",
              "\n",
              "    .dataframe tbody tr th {\n",
              "        vertical-align: top;\n",
              "    }\n",
              "\n",
              "    .dataframe thead th {\n",
              "        text-align: right;\n",
              "    }\n",
              "</style>\n",
              "<table border=\"1\" class=\"dataframe\">\n",
              "  <thead>\n",
              "    <tr style=\"text-align: right;\">\n",
              "      <th></th>\n",
              "      <th>A</th>\n",
              "      <th>B</th>\n",
              "      <th>mean(A)</th>\n",
              "      <th>mean(B)</th>\n",
              "      <th>diff</th>\n",
              "      <th>se</th>\n",
              "      <th>T</th>\n",
              "      <th>df</th>\n",
              "      <th>pval</th>\n",
              "      <th>hedges</th>\n",
              "    </tr>\n",
              "  </thead>\n",
              "  <tbody>\n",
              "    <tr>\n",
              "      <th>0</th>\n",
              "      <td>고등학생</td>\n",
              "      <td>기업</td>\n",
              "      <td>452.541667</td>\n",
              "      <td>228.15</td>\n",
              "      <td>224.391667</td>\n",
              "      <td>120.845551</td>\n",
              "      <td>1.856847</td>\n",
              "      <td>33.450635</td>\n",
              "      <td>0.518488</td>\n",
              "      <td>0.552089</td>\n",
              "    </tr>\n",
              "    <tr>\n",
              "      <th>1</th>\n",
              "      <td>고등학생</td>\n",
              "      <td>기타</td>\n",
              "      <td>452.541667</td>\n",
              "      <td>254.00</td>\n",
              "      <td>198.541667</td>\n",
              "      <td>124.619670</td>\n",
              "      <td>1.593181</td>\n",
              "      <td>35.729989</td>\n",
              "      <td>0.665240</td>\n",
              "      <td>0.480230</td>\n",
              "    </tr>\n",
              "    <tr>\n",
              "      <th>2</th>\n",
              "      <td>고등학생</td>\n",
              "      <td>대학생</td>\n",
              "      <td>452.541667</td>\n",
              "      <td>58.75</td>\n",
              "      <td>393.791667</td>\n",
              "      <td>109.660891</td>\n",
              "      <td>3.590995</td>\n",
              "      <td>24.380417</td>\n",
              "      <td>0.021171</td>\n",
              "      <td>1.135962</td>\n",
              "    </tr>\n",
              "    <tr>\n",
              "      <th>3</th>\n",
              "      <td>고등학생</td>\n",
              "      <td>사회단체</td>\n",
              "      <td>452.541667</td>\n",
              "      <td>580.40</td>\n",
              "      <td>-127.858333</td>\n",
              "      <td>268.753982</td>\n",
              "      <td>-0.475745</td>\n",
              "      <td>12.620263</td>\n",
              "      <td>0.900000</td>\n",
              "      <td>-0.174834</td>\n",
              "    </tr>\n",
              "    <tr>\n",
              "      <th>4</th>\n",
              "      <td>고등학생</td>\n",
              "      <td>예술인</td>\n",
              "      <td>452.541667</td>\n",
              "      <td>133.45</td>\n",
              "      <td>319.091667</td>\n",
              "      <td>109.783521</td>\n",
              "      <td>2.906553</td>\n",
              "      <td>24.508759</td>\n",
              "      <td>0.093555</td>\n",
              "      <td>0.741354</td>\n",
              "    </tr>\n",
              "    <tr>\n",
              "      <th>5</th>\n",
              "      <td>고등학생</td>\n",
              "      <td>중학생</td>\n",
              "      <td>452.541667</td>\n",
              "      <td>211.00</td>\n",
              "      <td>241.541667</td>\n",
              "      <td>124.894120</td>\n",
              "      <td>1.933971</td>\n",
              "      <td>29.943342</td>\n",
              "      <td>0.476111</td>\n",
              "      <td>0.769636</td>\n",
              "    </tr>\n",
              "    <tr>\n",
              "      <th>6</th>\n",
              "      <td>기업</td>\n",
              "      <td>기타</td>\n",
              "      <td>228.150000</td>\n",
              "      <td>254.00</td>\n",
              "      <td>-25.850000</td>\n",
              "      <td>82.400926</td>\n",
              "      <td>-0.313710</td>\n",
              "      <td>36.036353</td>\n",
              "      <td>0.900000</td>\n",
              "      <td>-0.098450</td>\n",
              "    </tr>\n",
              "    <tr>\n",
              "      <th>7</th>\n",
              "      <td>기업</td>\n",
              "      <td>대학생</td>\n",
              "      <td>228.150000</td>\n",
              "      <td>58.75</td>\n",
              "      <td>169.400000</td>\n",
              "      <td>57.318071</td>\n",
              "      <td>2.955438</td>\n",
              "      <td>23.428058</td>\n",
              "      <td>0.086593</td>\n",
              "      <td>0.969255</td>\n",
              "    </tr>\n",
              "    <tr>\n",
              "      <th>8</th>\n",
              "      <td>기업</td>\n",
              "      <td>사회단체</td>\n",
              "      <td>228.150000</td>\n",
              "      <td>580.40</td>\n",
              "      <td>-352.250000</td>\n",
              "      <td>251.969350</td>\n",
              "      <td>-1.397987</td>\n",
              "      <td>9.881561</td>\n",
              "      <td>0.771171</td>\n",
              "      <td>-0.526805</td>\n",
              "    </tr>\n",
              "    <tr>\n",
              "      <th>9</th>\n",
              "      <td>기업</td>\n",
              "      <td>예술인</td>\n",
              "      <td>228.150000</td>\n",
              "      <td>133.45</td>\n",
              "      <td>94.700000</td>\n",
              "      <td>57.552340</td>\n",
              "      <td>1.645459</td>\n",
              "      <td>24.054826</td>\n",
              "      <td>0.637654</td>\n",
              "      <td>0.444775</td>\n",
              "    </tr>\n",
              "    <tr>\n",
              "      <th>10</th>\n",
              "      <td>기업</td>\n",
              "      <td>중학생</td>\n",
              "      <td>228.150000</td>\n",
              "      <td>211.00</td>\n",
              "      <td>17.150000</td>\n",
              "      <td>82.815407</td>\n",
              "      <td>0.207087</td>\n",
              "      <td>17.716435</td>\n",
              "      <td>0.900000</td>\n",
              "      <td>0.084108</td>\n",
              "    </tr>\n",
              "    <tr>\n",
              "      <th>11</th>\n",
              "      <td>기타</td>\n",
              "      <td>대학생</td>\n",
              "      <td>254.000000</td>\n",
              "      <td>58.75</td>\n",
              "      <td>195.250000</td>\n",
              "      <td>64.898199</td>\n",
              "      <td>3.008558</td>\n",
              "      <td>21.236643</td>\n",
              "      <td>0.081454</td>\n",
              "      <td>0.997457</td>\n",
              "    </tr>\n",
              "    <tr>\n",
              "      <th>12</th>\n",
              "      <td>기타</td>\n",
              "      <td>사회단체</td>\n",
              "      <td>254.000000</td>\n",
              "      <td>580.40</td>\n",
              "      <td>-326.400000</td>\n",
              "      <td>253.801041</td>\n",
              "      <td>-1.286047</td>\n",
              "      <td>10.162713</td>\n",
              "      <td>0.827390</td>\n",
              "      <td>-0.488347</td>\n",
              "    </tr>\n",
              "    <tr>\n",
              "      <th>13</th>\n",
              "      <td>기타</td>\n",
              "      <td>예술인</td>\n",
              "      <td>254.000000</td>\n",
              "      <td>133.45</td>\n",
              "      <td>120.550000</td>\n",
              "      <td>65.105198</td>\n",
              "      <td>1.851619</td>\n",
              "      <td>21.628599</td>\n",
              "      <td>0.526837</td>\n",
              "      <td>0.509088</td>\n",
              "    </tr>\n",
              "    <tr>\n",
              "      <th>14</th>\n",
              "      <td>기타</td>\n",
              "      <td>중학생</td>\n",
              "      <td>254.000000</td>\n",
              "      <td>211.00</td>\n",
              "      <td>43.000000</td>\n",
              "      <td>88.231551</td>\n",
              "      <td>0.487354</td>\n",
              "      <td>20.003606</td>\n",
              "      <td>0.900000</td>\n",
              "      <td>0.199178</td>\n",
              "    </tr>\n",
              "    <tr>\n",
              "      <th>15</th>\n",
              "      <td>대학생</td>\n",
              "      <td>사회단체</td>\n",
              "      <td>58.750000</td>\n",
              "      <td>580.40</td>\n",
              "      <td>-521.650000</td>\n",
              "      <td>246.800358</td>\n",
              "      <td>-2.113652</td>\n",
              "      <td>9.105229</td>\n",
              "      <td>0.418721</td>\n",
              "      <td>-0.825134</td>\n",
              "    </tr>\n",
              "    <tr>\n",
              "      <th>16</th>\n",
              "      <td>대학생</td>\n",
              "      <td>예술인</td>\n",
              "      <td>58.750000</td>\n",
              "      <td>133.45</td>\n",
              "      <td>-74.700000</td>\n",
              "      <td>27.094935</td>\n",
              "      <td>-2.756973</td>\n",
              "      <td>44.730698</td>\n",
              "      <td>0.107865</td>\n",
              "      <td>-0.804144</td>\n",
              "    </tr>\n",
              "    <tr>\n",
              "      <th>17</th>\n",
              "      <td>대학생</td>\n",
              "      <td>중학생</td>\n",
              "      <td>58.750000</td>\n",
              "      <td>211.00</td>\n",
              "      <td>-152.250000</td>\n",
              "      <td>65.423661</td>\n",
              "      <td>-2.327140</td>\n",
              "      <td>8.286174</td>\n",
              "      <td>0.331333</td>\n",
              "      <td>-0.972933</td>\n",
              "    </tr>\n",
              "    <tr>\n",
              "      <th>18</th>\n",
              "      <td>사회단체</td>\n",
              "      <td>예술인</td>\n",
              "      <td>580.400000</td>\n",
              "      <td>133.45</td>\n",
              "      <td>446.950000</td>\n",
              "      <td>246.854871</td>\n",
              "      <td>1.810578</td>\n",
              "      <td>9.113380</td>\n",
              "      <td>0.566741</td>\n",
              "      <td>0.630082</td>\n",
              "    </tr>\n",
              "    <tr>\n",
              "      <th>19</th>\n",
              "      <td>사회단체</td>\n",
              "      <td>중학생</td>\n",
              "      <td>580.400000</td>\n",
              "      <td>211.00</td>\n",
              "      <td>369.400000</td>\n",
              "      <td>253.935912</td>\n",
              "      <td>1.454698</td>\n",
              "      <td>10.150132</td>\n",
              "      <td>0.742590</td>\n",
              "      <td>0.657165</td>\n",
              "    </tr>\n",
              "    <tr>\n",
              "      <th>20</th>\n",
              "      <td>예술인</td>\n",
              "      <td>중학생</td>\n",
              "      <td>133.450000</td>\n",
              "      <td>211.00</td>\n",
              "      <td>-77.550000</td>\n",
              "      <td>65.629002</td>\n",
              "      <td>-1.181642</td>\n",
              "      <td>8.408277</td>\n",
              "      <td>0.879380</td>\n",
              "      <td>-0.450146</td>\n",
              "    </tr>\n",
              "  </tbody>\n",
              "</table>\n",
              "</div>"
            ],
            "text/plain": [
              "       A     B     mean(A)  mean(B)  ...         T         df      pval    hedges\n",
              "0   고등학생    기업  452.541667   228.15  ...  1.856847  33.450635  0.518488  0.552089\n",
              "1   고등학생    기타  452.541667   254.00  ...  1.593181  35.729989  0.665240  0.480230\n",
              "2   고등학생   대학생  452.541667    58.75  ...  3.590995  24.380417  0.021171  1.135962\n",
              "3   고등학생  사회단체  452.541667   580.40  ... -0.475745  12.620263  0.900000 -0.174834\n",
              "4   고등학생   예술인  452.541667   133.45  ...  2.906553  24.508759  0.093555  0.741354\n",
              "5   고등학생   중학생  452.541667   211.00  ...  1.933971  29.943342  0.476111  0.769636\n",
              "6     기업    기타  228.150000   254.00  ... -0.313710  36.036353  0.900000 -0.098450\n",
              "7     기업   대학생  228.150000    58.75  ...  2.955438  23.428058  0.086593  0.969255\n",
              "8     기업  사회단체  228.150000   580.40  ... -1.397987   9.881561  0.771171 -0.526805\n",
              "9     기업   예술인  228.150000   133.45  ...  1.645459  24.054826  0.637654  0.444775\n",
              "10    기업   중학생  228.150000   211.00  ...  0.207087  17.716435  0.900000  0.084108\n",
              "11    기타   대학생  254.000000    58.75  ...  3.008558  21.236643  0.081454  0.997457\n",
              "12    기타  사회단체  254.000000   580.40  ... -1.286047  10.162713  0.827390 -0.488347\n",
              "13    기타   예술인  254.000000   133.45  ...  1.851619  21.628599  0.526837  0.509088\n",
              "14    기타   중학생  254.000000   211.00  ...  0.487354  20.003606  0.900000  0.199178\n",
              "15   대학생  사회단체   58.750000   580.40  ... -2.113652   9.105229  0.418721 -0.825134\n",
              "16   대학생   예술인   58.750000   133.45  ... -2.756973  44.730698  0.107865 -0.804144\n",
              "17   대학생   중학생   58.750000   211.00  ... -2.327140   8.286174  0.331333 -0.972933\n",
              "18  사회단체   예술인  580.400000   133.45  ...  1.810578   9.113380  0.566741  0.630082\n",
              "19  사회단체   중학생  580.400000   211.00  ...  1.454698  10.150132  0.742590  0.657165\n",
              "20   예술인   중학생  133.450000   211.00  ... -1.181642   8.408277  0.879380 -0.450146\n",
              "\n",
              "[21 rows x 10 columns]"
            ]
          },
          "metadata": {},
          "execution_count": 18
        }
      ]
    },
    {
      "cell_type": "markdown",
      "metadata": {
        "id": "SHvA2ZcRo_VP"
      },
      "source": [
        "# 기부유무와 달성률 t검정"
      ]
    },
    {
      "cell_type": "code",
      "metadata": {
        "id": "tJjny_nBs5hg"
      },
      "source": [
        "import scipy.stats"
      ],
      "execution_count": null,
      "outputs": []
    },
    {
      "cell_type": "code",
      "metadata": {
        "id": "QW8Y30elUGZ1",
        "colab": {
          "base_uri": "https://localhost:8080/"
        },
        "outputId": "9ca3b570-2cca-4b9f-92ef-d352c770dc65"
      },
      "source": [
        "# 독립표본 t 검정 -> p-value가 0.05보다 작으므로 기부한 집단과 기부하지 않은 집단의 평균 차이가 유의미하다.\n",
        "dona_y = data.rate_sp[data.donation == 1]\n",
        "dona_n = data.rate_sp[data.donation == 0]\n",
        "scipy.stats.ttest_ind(dona_y, dona_n, equal_var=False)"
      ],
      "execution_count": null,
      "outputs": [
        {
          "output_type": "execute_result",
          "data": {
            "text/plain": [
              "Ttest_indResult(statistic=3.2329970755753465, pvalue=0.0015800686056446247)"
            ]
          },
          "metadata": {},
          "execution_count": 27
        }
      ]
    },
    {
      "cell_type": "markdown",
      "metadata": {
        "id": "wO4VJ-OctRoh"
      },
      "source": [
        "# 기부유무와 참여횟수 t검정\n"
      ]
    },
    {
      "cell_type": "code",
      "metadata": {
        "colab": {
          "base_uri": "https://localhost:8080/"
        },
        "id": "gVwuvrbvICXK",
        "outputId": "19a51894-1e5d-409d-b6c4-81cbc25acc15"
      },
      "source": [
        "# 독립표본 t 검정 -> p-value가 0.05보다 작으므로 기부한 집단과 기부하지 않은 집단의 평균 차이가 유의미하다.\n",
        "dona_y = data.participation[data.donation == 1]\n",
        "dona_n = data.participation[data.donation == 0]\n",
        "scipy.stats.ttest_ind(dona_y, dona_n, equal_var=False)"
      ],
      "execution_count": null,
      "outputs": [
        {
          "output_type": "execute_result",
          "data": {
            "text/plain": [
              "Ttest_indResult(statistic=2.7125891392698636, pvalue=0.007562440764395838)"
            ]
          },
          "metadata": {},
          "execution_count": 66
        }
      ]
    },
    {
      "cell_type": "code",
      "metadata": {
        "colab": {
          "base_uri": "https://localhost:8080/"
        },
        "id": "o4uybwmSIP0m",
        "outputId": "10330cb5-37d8-4efa-ed0c-6140ab1574e7"
      },
      "source": [
        "dona_y.mean()"
      ],
      "execution_count": null,
      "outputs": [
        {
          "output_type": "execute_result",
          "data": {
            "text/plain": [
              "1.5443037974683544"
            ]
          },
          "metadata": {},
          "execution_count": 67
        }
      ]
    },
    {
      "cell_type": "code",
      "metadata": {
        "colab": {
          "base_uri": "https://localhost:8080/"
        },
        "id": "Y8jzWhbAJCxB",
        "outputId": "b39f3470-f27d-4e60-fb92-f2ade02f92ca"
      },
      "source": [
        "dona_n.mean()"
      ],
      "execution_count": null,
      "outputs": [
        {
          "output_type": "execute_result",
          "data": {
            "text/plain": [
              "1.2413793103448276"
            ]
          },
          "metadata": {},
          "execution_count": 68
        }
      ]
    },
    {
      "cell_type": "code",
      "metadata": {
        "id": "aoDl9upFJE2D"
      },
      "source": [
        ""
      ],
      "execution_count": null,
      "outputs": []
    }
  ]
}
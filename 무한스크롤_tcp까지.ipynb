{
  "nbformat": 4,
  "nbformat_minor": 0,
  "metadata": {
    "colab": {
      "name": "무한스크롤_tcp까지.ipynb",
      "provenance": [],
      "collapsed_sections": [],
      "include_colab_link": true
    },
    "kernelspec": {
      "name": "python3",
      "display_name": "Python 3"
    },
    "language_info": {
      "name": "python"
    }
  },
  "cells": [
    {
      "cell_type": "markdown",
      "metadata": {
        "id": "view-in-github",
        "colab_type": "text"
      },
      "source": [
        "<a href=\"https://colab.research.google.com/github/twinkleSojeong/daitgirls_class/blob/main/%EB%AC%B4%ED%95%9C%EC%8A%A4%ED%81%AC%EB%A1%A4_tcp%EA%B9%8C%EC%A7%80.ipynb\" target=\"_parent\"><img src=\"https://colab.research.google.com/assets/colab-badge.svg\" alt=\"Open In Colab\"/></a>"
      ]
    },
    {
      "cell_type": "code",
      "metadata": {
        "id": "DwRQffnIZUKu"
      },
      "source": [
        "from selenium import webdriver\n",
        "from bs4 import BeautifulSoup\n",
        "soup = BeautifulSoup(html, 'html.parser')\n",
        "import time"
      ],
      "execution_count": null,
      "outputs": []
    },
    {
      "cell_type": "code",
      "metadata": {
        "id": "eJR_UrHYZp2t"
      },
      "source": [
        "driver = webdriver.Chrome(\"./chromedriver\")\n",
        "url = 'https://tumblbug.com/discover'\n",
        "driver.get(url)"
      ],
      "execution_count": null,
      "outputs": []
    },
    {
      "cell_type": "code",
      "metadata": {
        "id": "0lMym4PTZ4C4"
      },
      "source": [
        "# csv로 저장\n",
        "# 파일 이름 output으로 지정했음\n",
        "import sys\n",
        "sys.stdout = open('output.txt', 'w', encoding='UTF-8')"
      ],
      "execution_count": null,
      "outputs": []
    },
    {
      "cell_type": "code",
      "metadata": {
        "id": "E0bP9VeYZsIh"
      },
      "source": [
        "prev_height = driver.execute_script(\"return document.body.scrollHeight\")"
      ],
      "execution_count": null,
      "outputs": []
    },
    {
      "cell_type": "code",
      "metadata": {
        "id": "e1Z515_aZvHN"
      },
      "source": [
        "# 웹페이지 맨 아래까지 무한 스크롤\n",
        "while True:\n",
        "    # 스크롤을 화면 가장 아래로 내린다\n",
        "    driver.execute_script(\"window.scrollTo(0,document.body.scrollHeight)\")\n",
        "    \n",
        "    # 페이지 로딩 대기\n",
        "    time.sleep(2)\n",
        "\n",
        "    # 현재 문서 높이를 가져와서 저장\n",
        "    curr_height = driver.execute_script(\"return document.body.scrollHeight\")\n",
        "\n",
        "    if(curr_height == prev_height):\n",
        "        break\n",
        "    else:\n",
        "        prev_height = driver.execute_script(\"return document.body.scrollHeight\")"
      ],
      "execution_count": null,
      "outputs": []
    },
    {
      "cell_type": "code",
      "metadata": {
        "id": "oJSyTu8IZv6j"
      },
      "source": [
        "# 제목, 카테고리, 주최자 추출\n",
        "names = driver.find_elements_by_css_selector('div>dl')\n",
        "print(len(names))\n",
        "for name in names:\n",
        "    title = name.find_elements_by_css_selector('dl>dt>a')[0].text\n",
        "    productor = name.find_elements_by_css_selector('dl>dd')[0].text\n",
        "    print(title, productor, sep = ' : ')"
      ],
      "execution_count": null,
      "outputs": []
    },
    {
      "cell_type": "code",
      "metadata": {
        "id": "A0LF5ZDxZypa"
      },
      "source": [
        ""
      ],
      "execution_count": null,
      "outputs": []
    }
  ]
}
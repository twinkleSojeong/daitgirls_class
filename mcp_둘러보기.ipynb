{
  "nbformat": 4,
  "nbformat_minor": 0,
  "metadata": {
    "colab": {
      "name": "mcp 만져보기",
      "provenance": [],
      "collapsed_sections": [],
      "authorship_tag": "ABX9TyNx6k77y9w6TvsM4216j9iL",
      "include_colab_link": true
    },
    "kernelspec": {
      "name": "python3",
      "display_name": "Python 3"
    },
    "language_info": {
      "name": "python"
    }
  },
  "cells": [
    {
      "cell_type": "markdown",
      "metadata": {
        "id": "view-in-github",
        "colab_type": "text"
      },
      "source": [
        "<a href=\"https://colab.research.google.com/github/twinkleSojeong/daitgirls_class/blob/main/mcp_%EB%91%98%EB%9F%AC%EB%B3%B4%EA%B8%B0.ipynb\" target=\"_parent\"><img src=\"https://colab.research.google.com/assets/colab-badge.svg\" alt=\"Open In Colab\"/></a>"
      ]
    },
    {
      "cell_type": "code",
      "metadata": {
        "colab": {
          "base_uri": "https://localhost:8080/"
        },
        "id": "neVjF3IBxwaW",
        "outputId": "4c5706fd-a98d-418c-b630-2b73c210bf37"
      },
      "source": [
        "! git clone \"https://github.com/FinanceData/marcap.git\" marcap"
      ],
      "execution_count": 1,
      "outputs": [
        {
          "output_type": "stream",
          "name": "stdout",
          "text": [
            "Cloning into 'marcap'...\n",
            "remote: Enumerating objects: 1017, done.\u001b[K\n",
            "remote: Counting objects: 100% (140/140), done.\u001b[K\n",
            "remote: Compressing objects: 100% (44/44), done.\u001b[K\n",
            "remote: Total 1017 (delta 102), reused 134 (delta 96), pack-reused 877\u001b[K\n",
            "Receiving objects: 100% (1017/1017), 2.09 GiB | 40.80 MiB/s, done.\n",
            "Resolving deltas: 100% (610/610), done.\n",
            "Checking out files: 100% (39/39), done.\n"
          ]
        }
      ]
    },
    {
      "cell_type": "code",
      "metadata": {
        "id": "aBFCiLkox2Hj"
      },
      "source": [
        "from marcap import marcap_data"
      ],
      "execution_count": 4,
      "outputs": []
    },
    {
      "cell_type": "code",
      "metadata": {
        "colab": {
          "base_uri": "https://localhost:8080/",
          "height": 506
        },
        "id": "UVoabrpwyg5Q",
        "outputId": "d4298d4a-4660-47cc-f9ec-02c73ca7e05b"
      },
      "source": [
        "df = marcap_data('2021-08-20')\n",
        "df.tail()"
      ],
      "execution_count": 11,
      "outputs": [
        {
          "output_type": "execute_result",
          "data": {
            "text/html": [
              "<div>\n",
              "<style scoped>\n",
              "    .dataframe tbody tr th:only-of-type {\n",
              "        vertical-align: middle;\n",
              "    }\n",
              "\n",
              "    .dataframe tbody tr th {\n",
              "        vertical-align: top;\n",
              "    }\n",
              "\n",
              "    .dataframe thead th {\n",
              "        text-align: right;\n",
              "    }\n",
              "</style>\n",
              "<table border=\"1\" class=\"dataframe\">\n",
              "  <thead>\n",
              "    <tr style=\"text-align: right;\">\n",
              "      <th></th>\n",
              "      <th>Code</th>\n",
              "      <th>Name</th>\n",
              "      <th>Market</th>\n",
              "      <th>Dept</th>\n",
              "      <th>Close</th>\n",
              "      <th>ChangeCode</th>\n",
              "      <th>Changes</th>\n",
              "      <th>ChagesRatio</th>\n",
              "      <th>Open</th>\n",
              "      <th>High</th>\n",
              "      <th>Low</th>\n",
              "      <th>Volume</th>\n",
              "      <th>Amount</th>\n",
              "      <th>Marcap</th>\n",
              "      <th>Stocks</th>\n",
              "      <th>MarketId</th>\n",
              "      <th>Rank</th>\n",
              "    </tr>\n",
              "    <tr>\n",
              "      <th>Date</th>\n",
              "      <th></th>\n",
              "      <th></th>\n",
              "      <th></th>\n",
              "      <th></th>\n",
              "      <th></th>\n",
              "      <th></th>\n",
              "      <th></th>\n",
              "      <th></th>\n",
              "      <th></th>\n",
              "      <th></th>\n",
              "      <th></th>\n",
              "      <th></th>\n",
              "      <th></th>\n",
              "      <th></th>\n",
              "      <th></th>\n",
              "      <th></th>\n",
              "      <th></th>\n",
              "    </tr>\n",
              "  </thead>\n",
              "  <tbody>\n",
              "    <tr>\n",
              "      <th>2021-08-20</th>\n",
              "      <td>215050</td>\n",
              "      <td>비엔디생활건강</td>\n",
              "      <td>KONEX</td>\n",
              "      <td>일반기업부</td>\n",
              "      <td>1585</td>\n",
              "      <td>3</td>\n",
              "      <td>0</td>\n",
              "      <td>0.00</td>\n",
              "      <td>1585</td>\n",
              "      <td>1585</td>\n",
              "      <td>1585</td>\n",
              "      <td>103</td>\n",
              "      <td>163255</td>\n",
              "      <td>3362840610</td>\n",
              "      <td>2121666</td>\n",
              "      <td>KNX</td>\n",
              "      <td>2573</td>\n",
              "    </tr>\n",
              "    <tr>\n",
              "      <th>2021-08-20</th>\n",
              "      <td>093510</td>\n",
              "      <td>엔지브이아이</td>\n",
              "      <td>KONEX</td>\n",
              "      <td>일반기업부</td>\n",
              "      <td>550</td>\n",
              "      <td>2</td>\n",
              "      <td>-34</td>\n",
              "      <td>-5.82</td>\n",
              "      <td>648</td>\n",
              "      <td>648</td>\n",
              "      <td>550</td>\n",
              "      <td>112</td>\n",
              "      <td>69310</td>\n",
              "      <td>3311000000</td>\n",
              "      <td>6020000</td>\n",
              "      <td>KNX</td>\n",
              "      <td>2575</td>\n",
              "    </tr>\n",
              "    <tr>\n",
              "      <th>2021-08-20</th>\n",
              "      <td>242350</td>\n",
              "      <td>피엔아이컴퍼니</td>\n",
              "      <td>KONEX</td>\n",
              "      <td>일반기업부</td>\n",
              "      <td>669</td>\n",
              "      <td>2</td>\n",
              "      <td>-40</td>\n",
              "      <td>-5.64</td>\n",
              "      <td>700</td>\n",
              "      <td>709</td>\n",
              "      <td>603</td>\n",
              "      <td>8603</td>\n",
              "      <td>5458432</td>\n",
              "      <td>3185456880</td>\n",
              "      <td>4761520</td>\n",
              "      <td>KNX</td>\n",
              "      <td>2576</td>\n",
              "    </tr>\n",
              "    <tr>\n",
              "      <th>2021-08-20</th>\n",
              "      <td>267810</td>\n",
              "      <td>앙츠</td>\n",
              "      <td>KONEX</td>\n",
              "      <td>일반기업부</td>\n",
              "      <td>1340</td>\n",
              "      <td>2</td>\n",
              "      <td>-35</td>\n",
              "      <td>-2.55</td>\n",
              "      <td>1545</td>\n",
              "      <td>1545</td>\n",
              "      <td>1340</td>\n",
              "      <td>105</td>\n",
              "      <td>160595</td>\n",
              "      <td>2072980000</td>\n",
              "      <td>1547000</td>\n",
              "      <td>KNX</td>\n",
              "      <td>2577</td>\n",
              "    </tr>\n",
              "    <tr>\n",
              "      <th>2021-08-20</th>\n",
              "      <td>038160</td>\n",
              "      <td>팍스넷</td>\n",
              "      <td>KOSDAQ</td>\n",
              "      <td>관리종목(소속부없음)</td>\n",
              "      <td>63</td>\n",
              "      <td>2</td>\n",
              "      <td>-252</td>\n",
              "      <td>-80.00</td>\n",
              "      <td>260</td>\n",
              "      <td>260</td>\n",
              "      <td>63</td>\n",
              "      <td>22805773</td>\n",
              "      <td>2289274075</td>\n",
              "      <td>771143688</td>\n",
              "      <td>12240376</td>\n",
              "      <td>KSQ</td>\n",
              "      <td>2580</td>\n",
              "    </tr>\n",
              "  </tbody>\n",
              "</table>\n",
              "</div>"
            ],
            "text/plain": [
              "              Code     Name  Market  ...    Stocks  MarketId  Rank\n",
              "Date                                 ...                          \n",
              "2021-08-20  215050  비엔디생활건강   KONEX  ...   2121666       KNX  2573\n",
              "2021-08-20  093510   엔지브이아이   KONEX  ...   6020000       KNX  2575\n",
              "2021-08-20  242350  피엔아이컴퍼니   KONEX  ...   4761520       KNX  2576\n",
              "2021-08-20  267810       앙츠   KONEX  ...   1547000       KNX  2577\n",
              "2021-08-20  038160      팍스넷  KOSDAQ  ...  12240376       KSQ  2580\n",
              "\n",
              "[5 rows x 17 columns]"
            ]
          },
          "metadata": {},
          "execution_count": 11
        }
      ]
    },
    {
      "cell_type": "code",
      "metadata": {
        "id": "3K0A94sryqMM"
      },
      "source": [
        ""
      ],
      "execution_count": null,
      "outputs": []
    }
  ]
}